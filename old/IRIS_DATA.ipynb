{
  "nbformat": 4,
  "nbformat_minor": 0,
  "metadata": {
    "colab": {
      "provenance": []
    },
    "kernelspec": {
      "name": "python3",
      "display_name": "Python 3"
    },
    "language_info": {
      "name": "python"
    },
    "widgets": {
      "application/vnd.jupyter.widget-state+json": {
        "feccb12179e642ac9792921f7606b538": {
          "model_module": "@jupyter-widgets/controls",
          "model_name": "HBoxModel",
          "model_module_version": "1.5.0",
          "state": {
            "_dom_classes": [],
            "_model_module": "@jupyter-widgets/controls",
            "_model_module_version": "1.5.0",
            "_model_name": "HBoxModel",
            "_view_count": null,
            "_view_module": "@jupyter-widgets/controls",
            "_view_module_version": "1.5.0",
            "_view_name": "HBoxView",
            "box_style": "",
            "children": [
              "IPY_MODEL_dd5687eb60d94957b81350c2538b2599",
              "IPY_MODEL_5979168e8e674405a8415b78e014e920",
              "IPY_MODEL_15c62ef4181449cd93693461dddd0bc3"
            ],
            "layout": "IPY_MODEL_e6471830cd63421888d29007c57800f6"
          }
        },
        "dd5687eb60d94957b81350c2538b2599": {
          "model_module": "@jupyter-widgets/controls",
          "model_name": "HTMLModel",
          "model_module_version": "1.5.0",
          "state": {
            "_dom_classes": [],
            "_model_module": "@jupyter-widgets/controls",
            "_model_module_version": "1.5.0",
            "_model_name": "HTMLModel",
            "_view_count": null,
            "_view_module": "@jupyter-widgets/controls",
            "_view_module_version": "1.5.0",
            "_view_name": "HTMLView",
            "description": "",
            "description_tooltip": null,
            "layout": "IPY_MODEL_cdda1341db81477d89993c6101bd3a0b",
            "placeholder": "​",
            "style": "IPY_MODEL_fc49e587930747418f319b712e3bcdd9",
            "value": "100%"
          }
        },
        "5979168e8e674405a8415b78e014e920": {
          "model_module": "@jupyter-widgets/controls",
          "model_name": "FloatProgressModel",
          "model_module_version": "1.5.0",
          "state": {
            "_dom_classes": [],
            "_model_module": "@jupyter-widgets/controls",
            "_model_module_version": "1.5.0",
            "_model_name": "FloatProgressModel",
            "_view_count": null,
            "_view_module": "@jupyter-widgets/controls",
            "_view_module_version": "1.5.0",
            "_view_name": "ProgressView",
            "bar_style": "success",
            "description": "",
            "description_tooltip": null,
            "layout": "IPY_MODEL_4c78380e86dd4fd99aed2c65968e19d9",
            "max": 50,
            "min": 0,
            "orientation": "horizontal",
            "style": "IPY_MODEL_248089fbd2084a2fb24e4d1627ce77e1",
            "value": 50
          }
        },
        "15c62ef4181449cd93693461dddd0bc3": {
          "model_module": "@jupyter-widgets/controls",
          "model_name": "HTMLModel",
          "model_module_version": "1.5.0",
          "state": {
            "_dom_classes": [],
            "_model_module": "@jupyter-widgets/controls",
            "_model_module_version": "1.5.0",
            "_model_name": "HTMLModel",
            "_view_count": null,
            "_view_module": "@jupyter-widgets/controls",
            "_view_module_version": "1.5.0",
            "_view_name": "HTMLView",
            "description": "",
            "description_tooltip": null,
            "layout": "IPY_MODEL_507f9a0c507b430a809936ae6f3967b2",
            "placeholder": "​",
            "style": "IPY_MODEL_6394e7e4f1904bd288177043eb379683",
            "value": " 50/50 [00:13&lt;00:00,  5.20it/s]"
          }
        },
        "e6471830cd63421888d29007c57800f6": {
          "model_module": "@jupyter-widgets/base",
          "model_name": "LayoutModel",
          "model_module_version": "1.2.0",
          "state": {
            "_model_module": "@jupyter-widgets/base",
            "_model_module_version": "1.2.0",
            "_model_name": "LayoutModel",
            "_view_count": null,
            "_view_module": "@jupyter-widgets/base",
            "_view_module_version": "1.2.0",
            "_view_name": "LayoutView",
            "align_content": null,
            "align_items": null,
            "align_self": null,
            "border": null,
            "bottom": null,
            "display": null,
            "flex": null,
            "flex_flow": null,
            "grid_area": null,
            "grid_auto_columns": null,
            "grid_auto_flow": null,
            "grid_auto_rows": null,
            "grid_column": null,
            "grid_gap": null,
            "grid_row": null,
            "grid_template_areas": null,
            "grid_template_columns": null,
            "grid_template_rows": null,
            "height": null,
            "justify_content": null,
            "justify_items": null,
            "left": null,
            "margin": null,
            "max_height": null,
            "max_width": null,
            "min_height": null,
            "min_width": null,
            "object_fit": null,
            "object_position": null,
            "order": null,
            "overflow": null,
            "overflow_x": null,
            "overflow_y": null,
            "padding": null,
            "right": null,
            "top": null,
            "visibility": null,
            "width": null
          }
        },
        "cdda1341db81477d89993c6101bd3a0b": {
          "model_module": "@jupyter-widgets/base",
          "model_name": "LayoutModel",
          "model_module_version": "1.2.0",
          "state": {
            "_model_module": "@jupyter-widgets/base",
            "_model_module_version": "1.2.0",
            "_model_name": "LayoutModel",
            "_view_count": null,
            "_view_module": "@jupyter-widgets/base",
            "_view_module_version": "1.2.0",
            "_view_name": "LayoutView",
            "align_content": null,
            "align_items": null,
            "align_self": null,
            "border": null,
            "bottom": null,
            "display": null,
            "flex": null,
            "flex_flow": null,
            "grid_area": null,
            "grid_auto_columns": null,
            "grid_auto_flow": null,
            "grid_auto_rows": null,
            "grid_column": null,
            "grid_gap": null,
            "grid_row": null,
            "grid_template_areas": null,
            "grid_template_columns": null,
            "grid_template_rows": null,
            "height": null,
            "justify_content": null,
            "justify_items": null,
            "left": null,
            "margin": null,
            "max_height": null,
            "max_width": null,
            "min_height": null,
            "min_width": null,
            "object_fit": null,
            "object_position": null,
            "order": null,
            "overflow": null,
            "overflow_x": null,
            "overflow_y": null,
            "padding": null,
            "right": null,
            "top": null,
            "visibility": null,
            "width": null
          }
        },
        "fc49e587930747418f319b712e3bcdd9": {
          "model_module": "@jupyter-widgets/controls",
          "model_name": "DescriptionStyleModel",
          "model_module_version": "1.5.0",
          "state": {
            "_model_module": "@jupyter-widgets/controls",
            "_model_module_version": "1.5.0",
            "_model_name": "DescriptionStyleModel",
            "_view_count": null,
            "_view_module": "@jupyter-widgets/base",
            "_view_module_version": "1.2.0",
            "_view_name": "StyleView",
            "description_width": ""
          }
        },
        "4c78380e86dd4fd99aed2c65968e19d9": {
          "model_module": "@jupyter-widgets/base",
          "model_name": "LayoutModel",
          "model_module_version": "1.2.0",
          "state": {
            "_model_module": "@jupyter-widgets/base",
            "_model_module_version": "1.2.0",
            "_model_name": "LayoutModel",
            "_view_count": null,
            "_view_module": "@jupyter-widgets/base",
            "_view_module_version": "1.2.0",
            "_view_name": "LayoutView",
            "align_content": null,
            "align_items": null,
            "align_self": null,
            "border": null,
            "bottom": null,
            "display": null,
            "flex": null,
            "flex_flow": null,
            "grid_area": null,
            "grid_auto_columns": null,
            "grid_auto_flow": null,
            "grid_auto_rows": null,
            "grid_column": null,
            "grid_gap": null,
            "grid_row": null,
            "grid_template_areas": null,
            "grid_template_columns": null,
            "grid_template_rows": null,
            "height": null,
            "justify_content": null,
            "justify_items": null,
            "left": null,
            "margin": null,
            "max_height": null,
            "max_width": null,
            "min_height": null,
            "min_width": null,
            "object_fit": null,
            "object_position": null,
            "order": null,
            "overflow": null,
            "overflow_x": null,
            "overflow_y": null,
            "padding": null,
            "right": null,
            "top": null,
            "visibility": null,
            "width": null
          }
        },
        "248089fbd2084a2fb24e4d1627ce77e1": {
          "model_module": "@jupyter-widgets/controls",
          "model_name": "ProgressStyleModel",
          "model_module_version": "1.5.0",
          "state": {
            "_model_module": "@jupyter-widgets/controls",
            "_model_module_version": "1.5.0",
            "_model_name": "ProgressStyleModel",
            "_view_count": null,
            "_view_module": "@jupyter-widgets/base",
            "_view_module_version": "1.2.0",
            "_view_name": "StyleView",
            "bar_color": null,
            "description_width": ""
          }
        },
        "507f9a0c507b430a809936ae6f3967b2": {
          "model_module": "@jupyter-widgets/base",
          "model_name": "LayoutModel",
          "model_module_version": "1.2.0",
          "state": {
            "_model_module": "@jupyter-widgets/base",
            "_model_module_version": "1.2.0",
            "_model_name": "LayoutModel",
            "_view_count": null,
            "_view_module": "@jupyter-widgets/base",
            "_view_module_version": "1.2.0",
            "_view_name": "LayoutView",
            "align_content": null,
            "align_items": null,
            "align_self": null,
            "border": null,
            "bottom": null,
            "display": null,
            "flex": null,
            "flex_flow": null,
            "grid_area": null,
            "grid_auto_columns": null,
            "grid_auto_flow": null,
            "grid_auto_rows": null,
            "grid_column": null,
            "grid_gap": null,
            "grid_row": null,
            "grid_template_areas": null,
            "grid_template_columns": null,
            "grid_template_rows": null,
            "height": null,
            "justify_content": null,
            "justify_items": null,
            "left": null,
            "margin": null,
            "max_height": null,
            "max_width": null,
            "min_height": null,
            "min_width": null,
            "object_fit": null,
            "object_position": null,
            "order": null,
            "overflow": null,
            "overflow_x": null,
            "overflow_y": null,
            "padding": null,
            "right": null,
            "top": null,
            "visibility": null,
            "width": null
          }
        },
        "6394e7e4f1904bd288177043eb379683": {
          "model_module": "@jupyter-widgets/controls",
          "model_name": "DescriptionStyleModel",
          "model_module_version": "1.5.0",
          "state": {
            "_model_module": "@jupyter-widgets/controls",
            "_model_module_version": "1.5.0",
            "_model_name": "DescriptionStyleModel",
            "_view_count": null,
            "_view_module": "@jupyter-widgets/base",
            "_view_module_version": "1.2.0",
            "_view_name": "StyleView",
            "description_width": ""
          }
        }
      }
    }
  },
  "cells": [
    {
      "cell_type": "code",
      "execution_count": null,
      "metadata": {
        "colab": {
          "base_uri": "https://localhost:8080/",
          "height": 38
        },
        "id": "EE5L6a-t9_wP",
        "outputId": "5c7074af-d04a-4857-884c-621d32e99223"
      },
      "outputs": [
        {
          "output_type": "display_data",
          "data": {
            "text/plain": [
              "<IPython.core.display.HTML object>"
            ],
            "text/html": [
              "\n",
              "     <input type=\"file\" id=\"files-0c12917f-c4cb-4350-b5b5-09b337ba75d7\" name=\"files[]\" multiple disabled\n",
              "        style=\"border:none\" />\n",
              "     <output id=\"result-0c12917f-c4cb-4350-b5b5-09b337ba75d7\">\n",
              "      Upload widget is only available when the cell has been executed in the\n",
              "      current browser session. Please rerun this cell to enable.\n",
              "      </output>\n",
              "      <script>// Copyright 2017 Google LLC\n",
              "//\n",
              "// Licensed under the Apache License, Version 2.0 (the \"License\");\n",
              "// you may not use this file except in compliance with the License.\n",
              "// You may obtain a copy of the License at\n",
              "//\n",
              "//      http://www.apache.org/licenses/LICENSE-2.0\n",
              "//\n",
              "// Unless required by applicable law or agreed to in writing, software\n",
              "// distributed under the License is distributed on an \"AS IS\" BASIS,\n",
              "// WITHOUT WARRANTIES OR CONDITIONS OF ANY KIND, either express or implied.\n",
              "// See the License for the specific language governing permissions and\n",
              "// limitations under the License.\n",
              "\n",
              "/**\n",
              " * @fileoverview Helpers for google.colab Python module.\n",
              " */\n",
              "(function(scope) {\n",
              "function span(text, styleAttributes = {}) {\n",
              "  const element = document.createElement('span');\n",
              "  element.textContent = text;\n",
              "  for (const key of Object.keys(styleAttributes)) {\n",
              "    element.style[key] = styleAttributes[key];\n",
              "  }\n",
              "  return element;\n",
              "}\n",
              "\n",
              "// Max number of bytes which will be uploaded at a time.\n",
              "const MAX_PAYLOAD_SIZE = 100 * 1024;\n",
              "\n",
              "function _uploadFiles(inputId, outputId) {\n",
              "  const steps = uploadFilesStep(inputId, outputId);\n",
              "  const outputElement = document.getElementById(outputId);\n",
              "  // Cache steps on the outputElement to make it available for the next call\n",
              "  // to uploadFilesContinue from Python.\n",
              "  outputElement.steps = steps;\n",
              "\n",
              "  return _uploadFilesContinue(outputId);\n",
              "}\n",
              "\n",
              "// This is roughly an async generator (not supported in the browser yet),\n",
              "// where there are multiple asynchronous steps and the Python side is going\n",
              "// to poll for completion of each step.\n",
              "// This uses a Promise to block the python side on completion of each step,\n",
              "// then passes the result of the previous step as the input to the next step.\n",
              "function _uploadFilesContinue(outputId) {\n",
              "  const outputElement = document.getElementById(outputId);\n",
              "  const steps = outputElement.steps;\n",
              "\n",
              "  const next = steps.next(outputElement.lastPromiseValue);\n",
              "  return Promise.resolve(next.value.promise).then((value) => {\n",
              "    // Cache the last promise value to make it available to the next\n",
              "    // step of the generator.\n",
              "    outputElement.lastPromiseValue = value;\n",
              "    return next.value.response;\n",
              "  });\n",
              "}\n",
              "\n",
              "/**\n",
              " * Generator function which is called between each async step of the upload\n",
              " * process.\n",
              " * @param {string} inputId Element ID of the input file picker element.\n",
              " * @param {string} outputId Element ID of the output display.\n",
              " * @return {!Iterable<!Object>} Iterable of next steps.\n",
              " */\n",
              "function* uploadFilesStep(inputId, outputId) {\n",
              "  const inputElement = document.getElementById(inputId);\n",
              "  inputElement.disabled = false;\n",
              "\n",
              "  const outputElement = document.getElementById(outputId);\n",
              "  outputElement.innerHTML = '';\n",
              "\n",
              "  const pickedPromise = new Promise((resolve) => {\n",
              "    inputElement.addEventListener('change', (e) => {\n",
              "      resolve(e.target.files);\n",
              "    });\n",
              "  });\n",
              "\n",
              "  const cancel = document.createElement('button');\n",
              "  inputElement.parentElement.appendChild(cancel);\n",
              "  cancel.textContent = 'Cancel upload';\n",
              "  const cancelPromise = new Promise((resolve) => {\n",
              "    cancel.onclick = () => {\n",
              "      resolve(null);\n",
              "    };\n",
              "  });\n",
              "\n",
              "  // Wait for the user to pick the files.\n",
              "  const files = yield {\n",
              "    promise: Promise.race([pickedPromise, cancelPromise]),\n",
              "    response: {\n",
              "      action: 'starting',\n",
              "    }\n",
              "  };\n",
              "\n",
              "  cancel.remove();\n",
              "\n",
              "  // Disable the input element since further picks are not allowed.\n",
              "  inputElement.disabled = true;\n",
              "\n",
              "  if (!files) {\n",
              "    return {\n",
              "      response: {\n",
              "        action: 'complete',\n",
              "      }\n",
              "    };\n",
              "  }\n",
              "\n",
              "  for (const file of files) {\n",
              "    const li = document.createElement('li');\n",
              "    li.append(span(file.name, {fontWeight: 'bold'}));\n",
              "    li.append(span(\n",
              "        `(${file.type || 'n/a'}) - ${file.size} bytes, ` +\n",
              "        `last modified: ${\n",
              "            file.lastModifiedDate ? file.lastModifiedDate.toLocaleDateString() :\n",
              "                                    'n/a'} - `));\n",
              "    const percent = span('0% done');\n",
              "    li.appendChild(percent);\n",
              "\n",
              "    outputElement.appendChild(li);\n",
              "\n",
              "    const fileDataPromise = new Promise((resolve) => {\n",
              "      const reader = new FileReader();\n",
              "      reader.onload = (e) => {\n",
              "        resolve(e.target.result);\n",
              "      };\n",
              "      reader.readAsArrayBuffer(file);\n",
              "    });\n",
              "    // Wait for the data to be ready.\n",
              "    let fileData = yield {\n",
              "      promise: fileDataPromise,\n",
              "      response: {\n",
              "        action: 'continue',\n",
              "      }\n",
              "    };\n",
              "\n",
              "    // Use a chunked sending to avoid message size limits. See b/62115660.\n",
              "    let position = 0;\n",
              "    do {\n",
              "      const length = Math.min(fileData.byteLength - position, MAX_PAYLOAD_SIZE);\n",
              "      const chunk = new Uint8Array(fileData, position, length);\n",
              "      position += length;\n",
              "\n",
              "      const base64 = btoa(String.fromCharCode.apply(null, chunk));\n",
              "      yield {\n",
              "        response: {\n",
              "          action: 'append',\n",
              "          file: file.name,\n",
              "          data: base64,\n",
              "        },\n",
              "      };\n",
              "\n",
              "      let percentDone = fileData.byteLength === 0 ?\n",
              "          100 :\n",
              "          Math.round((position / fileData.byteLength) * 100);\n",
              "      percent.textContent = `${percentDone}% done`;\n",
              "\n",
              "    } while (position < fileData.byteLength);\n",
              "  }\n",
              "\n",
              "  // All done.\n",
              "  yield {\n",
              "    response: {\n",
              "      action: 'complete',\n",
              "    }\n",
              "  };\n",
              "}\n",
              "\n",
              "scope.google = scope.google || {};\n",
              "scope.google.colab = scope.google.colab || {};\n",
              "scope.google.colab._files = {\n",
              "  _uploadFiles,\n",
              "  _uploadFilesContinue,\n",
              "};\n",
              "})(self);\n",
              "</script> "
            ]
          },
          "metadata": {}
        }
      ],
      "source": [
        "from google.colab import files\n",
        "uploaded = files.upload()"
      ]
    },
    {
      "cell_type": "code",
      "source": [
        "import pandas as pd\n",
        "import numpy as np"
      ],
      "metadata": {
        "id": "qsf9CW5l-hCz"
      },
      "execution_count": null,
      "outputs": []
    },
    {
      "cell_type": "code",
      "source": [
        "iris_df_input = pd.read_csv('/content/iris_input.txt', sep=\" \", header=None)\n",
        "iris_input = iris_df_input.drop([4], axis=1)\n"
      ],
      "metadata": {
        "id": "ecAwGmkd-i3z"
      },
      "execution_count": null,
      "outputs": []
    },
    {
      "cell_type": "code",
      "source": [
        "iris_input"
      ],
      "metadata": {
        "id": "rfmoMNszPqsY",
        "colab": {
          "base_uri": "https://localhost:8080/",
          "height": 424
        },
        "outputId": "b7dcb4e2-15cc-425c-b47f-2bcff4351320"
      },
      "execution_count": null,
      "outputs": [
        {
          "output_type": "execute_result",
          "data": {
            "text/plain": [
              "       0    1    2    3\n",
              "0    5.0  3.5  1.3  0.3\n",
              "1    4.5  2.3  1.3  0.3\n",
              "2    5.1  3.5  1.4  0.3\n",
              "3    5.7  3.8  1.7  0.3\n",
              "4    5.1  3.8  1.5  0.3\n",
              "..   ...  ...  ...  ...\n",
              "145  6.7  3.0  5.2  2.3\n",
              "146  6.3  2.5  5.0  1.9\n",
              "147  6.5  3.0  5.2  2.0\n",
              "148  6.2  3.4  5.4  2.3\n",
              "149  5.9  3.0  5.1  1.8\n",
              "\n",
              "[150 rows x 4 columns]"
            ],
            "text/html": [
              "\n",
              "  <div id=\"df-86b3ce9f-3886-4ff7-9834-c013de294649\">\n",
              "    <div class=\"colab-df-container\">\n",
              "      <div>\n",
              "<style scoped>\n",
              "    .dataframe tbody tr th:only-of-type {\n",
              "        vertical-align: middle;\n",
              "    }\n",
              "\n",
              "    .dataframe tbody tr th {\n",
              "        vertical-align: top;\n",
              "    }\n",
              "\n",
              "    .dataframe thead th {\n",
              "        text-align: right;\n",
              "    }\n",
              "</style>\n",
              "<table border=\"1\" class=\"dataframe\">\n",
              "  <thead>\n",
              "    <tr style=\"text-align: right;\">\n",
              "      <th></th>\n",
              "      <th>0</th>\n",
              "      <th>1</th>\n",
              "      <th>2</th>\n",
              "      <th>3</th>\n",
              "    </tr>\n",
              "  </thead>\n",
              "  <tbody>\n",
              "    <tr>\n",
              "      <th>0</th>\n",
              "      <td>5.0</td>\n",
              "      <td>3.5</td>\n",
              "      <td>1.3</td>\n",
              "      <td>0.3</td>\n",
              "    </tr>\n",
              "    <tr>\n",
              "      <th>1</th>\n",
              "      <td>4.5</td>\n",
              "      <td>2.3</td>\n",
              "      <td>1.3</td>\n",
              "      <td>0.3</td>\n",
              "    </tr>\n",
              "    <tr>\n",
              "      <th>2</th>\n",
              "      <td>5.1</td>\n",
              "      <td>3.5</td>\n",
              "      <td>1.4</td>\n",
              "      <td>0.3</td>\n",
              "    </tr>\n",
              "    <tr>\n",
              "      <th>3</th>\n",
              "      <td>5.7</td>\n",
              "      <td>3.8</td>\n",
              "      <td>1.7</td>\n",
              "      <td>0.3</td>\n",
              "    </tr>\n",
              "    <tr>\n",
              "      <th>4</th>\n",
              "      <td>5.1</td>\n",
              "      <td>3.8</td>\n",
              "      <td>1.5</td>\n",
              "      <td>0.3</td>\n",
              "    </tr>\n",
              "    <tr>\n",
              "      <th>...</th>\n",
              "      <td>...</td>\n",
              "      <td>...</td>\n",
              "      <td>...</td>\n",
              "      <td>...</td>\n",
              "    </tr>\n",
              "    <tr>\n",
              "      <th>145</th>\n",
              "      <td>6.7</td>\n",
              "      <td>3.0</td>\n",
              "      <td>5.2</td>\n",
              "      <td>2.3</td>\n",
              "    </tr>\n",
              "    <tr>\n",
              "      <th>146</th>\n",
              "      <td>6.3</td>\n",
              "      <td>2.5</td>\n",
              "      <td>5.0</td>\n",
              "      <td>1.9</td>\n",
              "    </tr>\n",
              "    <tr>\n",
              "      <th>147</th>\n",
              "      <td>6.5</td>\n",
              "      <td>3.0</td>\n",
              "      <td>5.2</td>\n",
              "      <td>2.0</td>\n",
              "    </tr>\n",
              "    <tr>\n",
              "      <th>148</th>\n",
              "      <td>6.2</td>\n",
              "      <td>3.4</td>\n",
              "      <td>5.4</td>\n",
              "      <td>2.3</td>\n",
              "    </tr>\n",
              "    <tr>\n",
              "      <th>149</th>\n",
              "      <td>5.9</td>\n",
              "      <td>3.0</td>\n",
              "      <td>5.1</td>\n",
              "      <td>1.8</td>\n",
              "    </tr>\n",
              "  </tbody>\n",
              "</table>\n",
              "<p>150 rows × 4 columns</p>\n",
              "</div>\n",
              "      <button class=\"colab-df-convert\" onclick=\"convertToInteractive('df-86b3ce9f-3886-4ff7-9834-c013de294649')\"\n",
              "              title=\"Convert this dataframe to an interactive table.\"\n",
              "              style=\"display:none;\">\n",
              "        \n",
              "  <svg xmlns=\"http://www.w3.org/2000/svg\" height=\"24px\"viewBox=\"0 0 24 24\"\n",
              "       width=\"24px\">\n",
              "    <path d=\"M0 0h24v24H0V0z\" fill=\"none\"/>\n",
              "    <path d=\"M18.56 5.44l.94 2.06.94-2.06 2.06-.94-2.06-.94-.94-2.06-.94 2.06-2.06.94zm-11 1L8.5 8.5l.94-2.06 2.06-.94-2.06-.94L8.5 2.5l-.94 2.06-2.06.94zm10 10l.94 2.06.94-2.06 2.06-.94-2.06-.94-.94-2.06-.94 2.06-2.06.94z\"/><path d=\"M17.41 7.96l-1.37-1.37c-.4-.4-.92-.59-1.43-.59-.52 0-1.04.2-1.43.59L10.3 9.45l-7.72 7.72c-.78.78-.78 2.05 0 2.83L4 21.41c.39.39.9.59 1.41.59.51 0 1.02-.2 1.41-.59l7.78-7.78 2.81-2.81c.8-.78.8-2.07 0-2.86zM5.41 20L4 18.59l7.72-7.72 1.47 1.35L5.41 20z\"/>\n",
              "  </svg>\n",
              "      </button>\n",
              "      \n",
              "  <style>\n",
              "    .colab-df-container {\n",
              "      display:flex;\n",
              "      flex-wrap:wrap;\n",
              "      gap: 12px;\n",
              "    }\n",
              "\n",
              "    .colab-df-convert {\n",
              "      background-color: #E8F0FE;\n",
              "      border: none;\n",
              "      border-radius: 50%;\n",
              "      cursor: pointer;\n",
              "      display: none;\n",
              "      fill: #1967D2;\n",
              "      height: 32px;\n",
              "      padding: 0 0 0 0;\n",
              "      width: 32px;\n",
              "    }\n",
              "\n",
              "    .colab-df-convert:hover {\n",
              "      background-color: #E2EBFA;\n",
              "      box-shadow: 0px 1px 2px rgba(60, 64, 67, 0.3), 0px 1px 3px 1px rgba(60, 64, 67, 0.15);\n",
              "      fill: #174EA6;\n",
              "    }\n",
              "\n",
              "    [theme=dark] .colab-df-convert {\n",
              "      background-color: #3B4455;\n",
              "      fill: #D2E3FC;\n",
              "    }\n",
              "\n",
              "    [theme=dark] .colab-df-convert:hover {\n",
              "      background-color: #434B5C;\n",
              "      box-shadow: 0px 1px 3px 1px rgba(0, 0, 0, 0.15);\n",
              "      filter: drop-shadow(0px 1px 2px rgba(0, 0, 0, 0.3));\n",
              "      fill: #FFFFFF;\n",
              "    }\n",
              "  </style>\n",
              "\n",
              "      <script>\n",
              "        const buttonEl =\n",
              "          document.querySelector('#df-86b3ce9f-3886-4ff7-9834-c013de294649 button.colab-df-convert');\n",
              "        buttonEl.style.display =\n",
              "          google.colab.kernel.accessAllowed ? 'block' : 'none';\n",
              "\n",
              "        async function convertToInteractive(key) {\n",
              "          const element = document.querySelector('#df-86b3ce9f-3886-4ff7-9834-c013de294649');\n",
              "          const dataTable =\n",
              "            await google.colab.kernel.invokeFunction('convertToInteractive',\n",
              "                                                     [key], {});\n",
              "          if (!dataTable) return;\n",
              "\n",
              "          const docLinkHtml = 'Like what you see? Visit the ' +\n",
              "            '<a target=\"_blank\" href=https://colab.research.google.com/notebooks/data_table.ipynb>data table notebook</a>'\n",
              "            + ' to learn more about interactive tables.';\n",
              "          element.innerHTML = '';\n",
              "          dataTable['output_type'] = 'display_data';\n",
              "          await google.colab.output.renderOutput(dataTable, element);\n",
              "          const docLink = document.createElement('div');\n",
              "          docLink.innerHTML = docLinkHtml;\n",
              "          element.appendChild(docLink);\n",
              "        }\n",
              "      </script>\n",
              "    </div>\n",
              "  </div>\n",
              "  "
            ]
          },
          "metadata": {},
          "execution_count": 4
        }
      ]
    },
    {
      "cell_type": "code",
      "source": [
        "iris_input_2 = iris_df_input.drop([0, 1, 4], axis=1)\n"
      ],
      "metadata": {
        "id": "ArGVzPDOG5to"
      },
      "execution_count": null,
      "outputs": []
    },
    {
      "cell_type": "code",
      "source": [
        "iris_input_2"
      ],
      "metadata": {
        "colab": {
          "base_uri": "https://localhost:8080/",
          "height": 424
        },
        "id": "4irFlw1NHHwZ",
        "outputId": "2c89c03c-4035-4883-ffa8-3860870cef4c"
      },
      "execution_count": null,
      "outputs": [
        {
          "output_type": "execute_result",
          "data": {
            "text/plain": [
              "       2    3\n",
              "0    1.3  0.3\n",
              "1    1.3  0.3\n",
              "2    1.4  0.3\n",
              "3    1.7  0.3\n",
              "4    1.5  0.3\n",
              "..   ...  ...\n",
              "145  5.2  2.3\n",
              "146  5.0  1.9\n",
              "147  5.2  2.0\n",
              "148  5.4  2.3\n",
              "149  5.1  1.8\n",
              "\n",
              "[150 rows x 2 columns]"
            ],
            "text/html": [
              "\n",
              "  <div id=\"df-17aadd8b-5fb9-406a-b407-5650d7f27b7f\">\n",
              "    <div class=\"colab-df-container\">\n",
              "      <div>\n",
              "<style scoped>\n",
              "    .dataframe tbody tr th:only-of-type {\n",
              "        vertical-align: middle;\n",
              "    }\n",
              "\n",
              "    .dataframe tbody tr th {\n",
              "        vertical-align: top;\n",
              "    }\n",
              "\n",
              "    .dataframe thead th {\n",
              "        text-align: right;\n",
              "    }\n",
              "</style>\n",
              "<table border=\"1\" class=\"dataframe\">\n",
              "  <thead>\n",
              "    <tr style=\"text-align: right;\">\n",
              "      <th></th>\n",
              "      <th>2</th>\n",
              "      <th>3</th>\n",
              "    </tr>\n",
              "  </thead>\n",
              "  <tbody>\n",
              "    <tr>\n",
              "      <th>0</th>\n",
              "      <td>1.3</td>\n",
              "      <td>0.3</td>\n",
              "    </tr>\n",
              "    <tr>\n",
              "      <th>1</th>\n",
              "      <td>1.3</td>\n",
              "      <td>0.3</td>\n",
              "    </tr>\n",
              "    <tr>\n",
              "      <th>2</th>\n",
              "      <td>1.4</td>\n",
              "      <td>0.3</td>\n",
              "    </tr>\n",
              "    <tr>\n",
              "      <th>3</th>\n",
              "      <td>1.7</td>\n",
              "      <td>0.3</td>\n",
              "    </tr>\n",
              "    <tr>\n",
              "      <th>4</th>\n",
              "      <td>1.5</td>\n",
              "      <td>0.3</td>\n",
              "    </tr>\n",
              "    <tr>\n",
              "      <th>...</th>\n",
              "      <td>...</td>\n",
              "      <td>...</td>\n",
              "    </tr>\n",
              "    <tr>\n",
              "      <th>145</th>\n",
              "      <td>5.2</td>\n",
              "      <td>2.3</td>\n",
              "    </tr>\n",
              "    <tr>\n",
              "      <th>146</th>\n",
              "      <td>5.0</td>\n",
              "      <td>1.9</td>\n",
              "    </tr>\n",
              "    <tr>\n",
              "      <th>147</th>\n",
              "      <td>5.2</td>\n",
              "      <td>2.0</td>\n",
              "    </tr>\n",
              "    <tr>\n",
              "      <th>148</th>\n",
              "      <td>5.4</td>\n",
              "      <td>2.3</td>\n",
              "    </tr>\n",
              "    <tr>\n",
              "      <th>149</th>\n",
              "      <td>5.1</td>\n",
              "      <td>1.8</td>\n",
              "    </tr>\n",
              "  </tbody>\n",
              "</table>\n",
              "<p>150 rows × 2 columns</p>\n",
              "</div>\n",
              "      <button class=\"colab-df-convert\" onclick=\"convertToInteractive('df-17aadd8b-5fb9-406a-b407-5650d7f27b7f')\"\n",
              "              title=\"Convert this dataframe to an interactive table.\"\n",
              "              style=\"display:none;\">\n",
              "        \n",
              "  <svg xmlns=\"http://www.w3.org/2000/svg\" height=\"24px\"viewBox=\"0 0 24 24\"\n",
              "       width=\"24px\">\n",
              "    <path d=\"M0 0h24v24H0V0z\" fill=\"none\"/>\n",
              "    <path d=\"M18.56 5.44l.94 2.06.94-2.06 2.06-.94-2.06-.94-.94-2.06-.94 2.06-2.06.94zm-11 1L8.5 8.5l.94-2.06 2.06-.94-2.06-.94L8.5 2.5l-.94 2.06-2.06.94zm10 10l.94 2.06.94-2.06 2.06-.94-2.06-.94-.94-2.06-.94 2.06-2.06.94z\"/><path d=\"M17.41 7.96l-1.37-1.37c-.4-.4-.92-.59-1.43-.59-.52 0-1.04.2-1.43.59L10.3 9.45l-7.72 7.72c-.78.78-.78 2.05 0 2.83L4 21.41c.39.39.9.59 1.41.59.51 0 1.02-.2 1.41-.59l7.78-7.78 2.81-2.81c.8-.78.8-2.07 0-2.86zM5.41 20L4 18.59l7.72-7.72 1.47 1.35L5.41 20z\"/>\n",
              "  </svg>\n",
              "      </button>\n",
              "      \n",
              "  <style>\n",
              "    .colab-df-container {\n",
              "      display:flex;\n",
              "      flex-wrap:wrap;\n",
              "      gap: 12px;\n",
              "    }\n",
              "\n",
              "    .colab-df-convert {\n",
              "      background-color: #E8F0FE;\n",
              "      border: none;\n",
              "      border-radius: 50%;\n",
              "      cursor: pointer;\n",
              "      display: none;\n",
              "      fill: #1967D2;\n",
              "      height: 32px;\n",
              "      padding: 0 0 0 0;\n",
              "      width: 32px;\n",
              "    }\n",
              "\n",
              "    .colab-df-convert:hover {\n",
              "      background-color: #E2EBFA;\n",
              "      box-shadow: 0px 1px 2px rgba(60, 64, 67, 0.3), 0px 1px 3px 1px rgba(60, 64, 67, 0.15);\n",
              "      fill: #174EA6;\n",
              "    }\n",
              "\n",
              "    [theme=dark] .colab-df-convert {\n",
              "      background-color: #3B4455;\n",
              "      fill: #D2E3FC;\n",
              "    }\n",
              "\n",
              "    [theme=dark] .colab-df-convert:hover {\n",
              "      background-color: #434B5C;\n",
              "      box-shadow: 0px 1px 3px 1px rgba(0, 0, 0, 0.15);\n",
              "      filter: drop-shadow(0px 1px 2px rgba(0, 0, 0, 0.3));\n",
              "      fill: #FFFFFF;\n",
              "    }\n",
              "  </style>\n",
              "\n",
              "      <script>\n",
              "        const buttonEl =\n",
              "          document.querySelector('#df-17aadd8b-5fb9-406a-b407-5650d7f27b7f button.colab-df-convert');\n",
              "        buttonEl.style.display =\n",
              "          google.colab.kernel.accessAllowed ? 'block' : 'none';\n",
              "\n",
              "        async function convertToInteractive(key) {\n",
              "          const element = document.querySelector('#df-17aadd8b-5fb9-406a-b407-5650d7f27b7f');\n",
              "          const dataTable =\n",
              "            await google.colab.kernel.invokeFunction('convertToInteractive',\n",
              "                                                     [key], {});\n",
              "          if (!dataTable) return;\n",
              "\n",
              "          const docLinkHtml = 'Like what you see? Visit the ' +\n",
              "            '<a target=\"_blank\" href=https://colab.research.google.com/notebooks/data_table.ipynb>data table notebook</a>'\n",
              "            + ' to learn more about interactive tables.';\n",
              "          element.innerHTML = '';\n",
              "          dataTable['output_type'] = 'display_data';\n",
              "          await google.colab.output.renderOutput(dataTable, element);\n",
              "          const docLink = document.createElement('div');\n",
              "          docLink.innerHTML = docLinkHtml;\n",
              "          element.appendChild(docLink);\n",
              "        }\n",
              "      </script>\n",
              "    </div>\n",
              "  </div>\n",
              "  "
            ]
          },
          "metadata": {},
          "execution_count": 6
        }
      ]
    },
    {
      "cell_type": "code",
      "source": [
        "iris_target = pd.read_csv('/content/iris_target_aux.txt', sep=\"\\t\", header=None)\n"
      ],
      "metadata": {
        "id": "uXHCaeSE-uBp"
      },
      "execution_count": null,
      "outputs": []
    },
    {
      "cell_type": "code",
      "source": [
        "iris_target"
      ],
      "metadata": {
        "id": "Hf302UNbAFp2",
        "colab": {
          "base_uri": "https://localhost:8080/",
          "height": 424
        },
        "outputId": "3e0db581-9954-48bc-cb4f-f2b71890d774"
      },
      "execution_count": null,
      "outputs": [
        {
          "output_type": "execute_result",
          "data": {
            "text/plain": [
              "     0\n",
              "0    1\n",
              "1    1\n",
              "2    1\n",
              "3    1\n",
              "4    1\n",
              "..  ..\n",
              "145  3\n",
              "146  3\n",
              "147  3\n",
              "148  3\n",
              "149  3\n",
              "\n",
              "[150 rows x 1 columns]"
            ],
            "text/html": [
              "\n",
              "  <div id=\"df-a117e149-d896-4fe5-9551-0dd4a7114664\">\n",
              "    <div class=\"colab-df-container\">\n",
              "      <div>\n",
              "<style scoped>\n",
              "    .dataframe tbody tr th:only-of-type {\n",
              "        vertical-align: middle;\n",
              "    }\n",
              "\n",
              "    .dataframe tbody tr th {\n",
              "        vertical-align: top;\n",
              "    }\n",
              "\n",
              "    .dataframe thead th {\n",
              "        text-align: right;\n",
              "    }\n",
              "</style>\n",
              "<table border=\"1\" class=\"dataframe\">\n",
              "  <thead>\n",
              "    <tr style=\"text-align: right;\">\n",
              "      <th></th>\n",
              "      <th>0</th>\n",
              "    </tr>\n",
              "  </thead>\n",
              "  <tbody>\n",
              "    <tr>\n",
              "      <th>0</th>\n",
              "      <td>1</td>\n",
              "    </tr>\n",
              "    <tr>\n",
              "      <th>1</th>\n",
              "      <td>1</td>\n",
              "    </tr>\n",
              "    <tr>\n",
              "      <th>2</th>\n",
              "      <td>1</td>\n",
              "    </tr>\n",
              "    <tr>\n",
              "      <th>3</th>\n",
              "      <td>1</td>\n",
              "    </tr>\n",
              "    <tr>\n",
              "      <th>4</th>\n",
              "      <td>1</td>\n",
              "    </tr>\n",
              "    <tr>\n",
              "      <th>...</th>\n",
              "      <td>...</td>\n",
              "    </tr>\n",
              "    <tr>\n",
              "      <th>145</th>\n",
              "      <td>3</td>\n",
              "    </tr>\n",
              "    <tr>\n",
              "      <th>146</th>\n",
              "      <td>3</td>\n",
              "    </tr>\n",
              "    <tr>\n",
              "      <th>147</th>\n",
              "      <td>3</td>\n",
              "    </tr>\n",
              "    <tr>\n",
              "      <th>148</th>\n",
              "      <td>3</td>\n",
              "    </tr>\n",
              "    <tr>\n",
              "      <th>149</th>\n",
              "      <td>3</td>\n",
              "    </tr>\n",
              "  </tbody>\n",
              "</table>\n",
              "<p>150 rows × 1 columns</p>\n",
              "</div>\n",
              "      <button class=\"colab-df-convert\" onclick=\"convertToInteractive('df-a117e149-d896-4fe5-9551-0dd4a7114664')\"\n",
              "              title=\"Convert this dataframe to an interactive table.\"\n",
              "              style=\"display:none;\">\n",
              "        \n",
              "  <svg xmlns=\"http://www.w3.org/2000/svg\" height=\"24px\"viewBox=\"0 0 24 24\"\n",
              "       width=\"24px\">\n",
              "    <path d=\"M0 0h24v24H0V0z\" fill=\"none\"/>\n",
              "    <path d=\"M18.56 5.44l.94 2.06.94-2.06 2.06-.94-2.06-.94-.94-2.06-.94 2.06-2.06.94zm-11 1L8.5 8.5l.94-2.06 2.06-.94-2.06-.94L8.5 2.5l-.94 2.06-2.06.94zm10 10l.94 2.06.94-2.06 2.06-.94-2.06-.94-.94-2.06-.94 2.06-2.06.94z\"/><path d=\"M17.41 7.96l-1.37-1.37c-.4-.4-.92-.59-1.43-.59-.52 0-1.04.2-1.43.59L10.3 9.45l-7.72 7.72c-.78.78-.78 2.05 0 2.83L4 21.41c.39.39.9.59 1.41.59.51 0 1.02-.2 1.41-.59l7.78-7.78 2.81-2.81c.8-.78.8-2.07 0-2.86zM5.41 20L4 18.59l7.72-7.72 1.47 1.35L5.41 20z\"/>\n",
              "  </svg>\n",
              "      </button>\n",
              "      \n",
              "  <style>\n",
              "    .colab-df-container {\n",
              "      display:flex;\n",
              "      flex-wrap:wrap;\n",
              "      gap: 12px;\n",
              "    }\n",
              "\n",
              "    .colab-df-convert {\n",
              "      background-color: #E8F0FE;\n",
              "      border: none;\n",
              "      border-radius: 50%;\n",
              "      cursor: pointer;\n",
              "      display: none;\n",
              "      fill: #1967D2;\n",
              "      height: 32px;\n",
              "      padding: 0 0 0 0;\n",
              "      width: 32px;\n",
              "    }\n",
              "\n",
              "    .colab-df-convert:hover {\n",
              "      background-color: #E2EBFA;\n",
              "      box-shadow: 0px 1px 2px rgba(60, 64, 67, 0.3), 0px 1px 3px 1px rgba(60, 64, 67, 0.15);\n",
              "      fill: #174EA6;\n",
              "    }\n",
              "\n",
              "    [theme=dark] .colab-df-convert {\n",
              "      background-color: #3B4455;\n",
              "      fill: #D2E3FC;\n",
              "    }\n",
              "\n",
              "    [theme=dark] .colab-df-convert:hover {\n",
              "      background-color: #434B5C;\n",
              "      box-shadow: 0px 1px 3px 1px rgba(0, 0, 0, 0.15);\n",
              "      filter: drop-shadow(0px 1px 2px rgba(0, 0, 0, 0.3));\n",
              "      fill: #FFFFFF;\n",
              "    }\n",
              "  </style>\n",
              "\n",
              "      <script>\n",
              "        const buttonEl =\n",
              "          document.querySelector('#df-a117e149-d896-4fe5-9551-0dd4a7114664 button.colab-df-convert');\n",
              "        buttonEl.style.display =\n",
              "          google.colab.kernel.accessAllowed ? 'block' : 'none';\n",
              "\n",
              "        async function convertToInteractive(key) {\n",
              "          const element = document.querySelector('#df-a117e149-d896-4fe5-9551-0dd4a7114664');\n",
              "          const dataTable =\n",
              "            await google.colab.kernel.invokeFunction('convertToInteractive',\n",
              "                                                     [key], {});\n",
              "          if (!dataTable) return;\n",
              "\n",
              "          const docLinkHtml = 'Like what you see? Visit the ' +\n",
              "            '<a target=\"_blank\" href=https://colab.research.google.com/notebooks/data_table.ipynb>data table notebook</a>'\n",
              "            + ' to learn more about interactive tables.';\n",
              "          element.innerHTML = '';\n",
              "          dataTable['output_type'] = 'display_data';\n",
              "          await google.colab.output.renderOutput(dataTable, element);\n",
              "          const docLink = document.createElement('div');\n",
              "          docLink.innerHTML = docLinkHtml;\n",
              "          element.appendChild(docLink);\n",
              "        }\n",
              "      </script>\n",
              "    </div>\n",
              "  </div>\n",
              "  "
            ]
          },
          "metadata": {},
          "execution_count": 8
        }
      ]
    },
    {
      "cell_type": "code",
      "source": [
        "import sys\n",
        "from time import sleep\n",
        "from tqdm.notebook import tqdm_notebook\n",
        "from sklearn.model_selection import train_test_split\n",
        "from sklearn.neighbors import NearestCentroid\n",
        "from sklearn.metrics import make_scorer, confusion_matrix, accuracy_score\n",
        "from sklearn.metrics import confusion_matrix\n",
        "\n",
        "it = 0\n",
        "clf = NearestCentroid(metric='euclidean',)"
      ],
      "metadata": {
        "id": "cIko1HnXA89d"
      },
      "execution_count": null,
      "outputs": []
    },
    {
      "cell_type": "code",
      "source": [
        "from sklearn.neighbors import KNeighborsClassifier\n",
        "nn = KNeighborsClassifier(n_neighbors=1, metric='euclidean')\n",
        "knn3 = KNeighborsClassifier(n_neighbors=3, metric='euclidean')\n",
        "knn5 = KNeighborsClassifier(n_neighbors=5, metric='euclidean')\n",
        "knn7 = KNeighborsClassifier(n_neighbors=7, metric='euclidean')"
      ],
      "metadata": {
        "id": "KECQwYHhoST0"
      },
      "execution_count": null,
      "outputs": []
    },
    {
      "cell_type": "code",
      "source": [
        "acc_test_result = []\n",
        "confusion_matrix_list = []\n",
        "acc_test_result_nn = []\n",
        "confusion_matrix_list_nn = []\n",
        "acc_test_result_knn3 = []\n",
        "confusion_matrix_list_knn3 = []\n",
        "acc_test_result_knn5 = []\n",
        "confusion_matrix_list_knn5 = []\n",
        "acc_test_result_knn7 = []\n",
        "confusion_matrix_list_knn7 = []\n",
        "acc_test_result_2 = []\n",
        "confusion_matrix_list_2 = []\n",
        "acc_test_result_nn_2 = []\n",
        "confusion_matrix_list_nn_2 = []\n",
        "acc_test_result_knn3_2 = []\n",
        "confusion_matrix_list_knn3_2 = []\n",
        "acc_test_result_knn5_2 = []\n",
        "confusion_matrix_list_knn5_2 = []\n",
        "acc_test_result_knn7_2 = []\n",
        "confusion_matrix_list_knn7_2 = []\n",
        "\n",
        "for it in tqdm_notebook(range(50)):\n",
        "    X_train, X_test, X_train_2, X_test_2, y_train, y_test = train_test_split(iris_input, iris_input_2, iris_target , test_size=0.20, stratify=iris_target)\n",
        "    clf.fit(X_train, y_train.values.ravel())\n",
        "    y_pred_iris = clf.predict(X_test)\n",
        "    acc_test_iris =  accuracy_score(y_test, y_pred_iris)\n",
        "    acc_test_result.append(acc_test_iris)\n",
        "    confusion_matrix_list.append(confusion_matrix(y_test, y_pred_iris))\n",
        "    nn.fit(X_train, y_train.values.ravel())\n",
        "    y_pred_iris_nn = nn.predict(X_test)\n",
        "    acc_test_iris_nn =  accuracy_score(y_test, y_pred_iris_nn)\n",
        "    acc_test_result_nn.append(acc_test_iris_nn)\n",
        "    confusion_matrix_list_nn.append(confusion_matrix(y_test, y_pred_iris_nn))\n",
        "    knn3.fit(X_train, y_train.values.ravel())\n",
        "    y_pred_iris_knn3 = knn3.predict(X_test)\n",
        "    acc_test_iris_knn3 =  accuracy_score(y_test, y_pred_iris_knn3)\n",
        "    acc_test_result_knn3.append(acc_test_iris_knn3)\n",
        "    confusion_matrix_list_knn3.append(confusion_matrix(y_test, y_pred_iris_knn3))\n",
        "    knn5.fit(X_train, y_train.values.ravel())\n",
        "    y_pred_iris_knn5 = knn5.predict(X_test)\n",
        "    acc_test_iris_knn5 =  accuracy_score(y_test, y_pred_iris_knn5)\n",
        "    acc_test_result_knn5.append(acc_test_iris_knn5)\n",
        "    confusion_matrix_list_knn5.append(confusion_matrix(y_test, y_pred_iris_knn5))\n",
        "    knn7.fit(X_train, y_train.values.ravel())\n",
        "    y_pred_iris_knn7 = knn7.predict(X_test)\n",
        "    acc_test_iris_knn7 =  accuracy_score(y_test, y_pred_iris_knn7)\n",
        "    acc_test_result_knn7.append(acc_test_iris_knn7)\n",
        "    confusion_matrix_list_knn7.append(confusion_matrix(y_test, y_pred_iris_knn7))\n",
        "\n",
        "    clf.fit(X_train_2, y_train.values.ravel())\n",
        "    y_pred_iris_2 = clf.predict(X_test_2)\n",
        "    acc_test_iris_2 =  accuracy_score(y_test, y_pred_iris_2)\n",
        "    acc_test_result_2.append(acc_test_iris_2)\n",
        "    confusion_matrix_list_2.append(confusion_matrix(y_test, y_pred_iris_2))\n",
        "    nn.fit(X_train_2, y_train.values.ravel())\n",
        "    y_pred_iris_nn_2 = nn.predict(X_test_2)\n",
        "    acc_test_iris_nn_2 =  accuracy_score(y_test, y_pred_iris_nn_2)\n",
        "    acc_test_result_nn_2.append(acc_test_iris_nn_2)\n",
        "    confusion_matrix_list_nn_2.append(confusion_matrix(y_test, y_pred_iris_nn_2))\n",
        "    knn3.fit(X_train_2, y_train.values.ravel())\n",
        "    y_pred_iris_knn3_2 = knn3.predict(X_test_2)\n",
        "    acc_test_iris_knn3_2 =  accuracy_score(y_test, y_pred_iris_knn3_2)\n",
        "    acc_test_result_knn3_2.append(acc_test_iris_knn3_2)\n",
        "    confusion_matrix_list_knn3_2.append(confusion_matrix(y_test, y_pred_iris_knn3_2))\n",
        "    knn5.fit(X_train_2, y_train.values.ravel())\n",
        "    y_pred_iris_knn5_2 = knn5.predict(X_test_2)\n",
        "    acc_test_iris_knn5_2 =  accuracy_score(y_test, y_pred_iris_knn5_2)\n",
        "    acc_test_result_knn5_2.append(acc_test_iris_knn5_2)\n",
        "    confusion_matrix_list_knn5_2.append(confusion_matrix(y_test, y_pred_iris_knn5_2))\n",
        "    knn7.fit(X_train_2, y_train.values.ravel())\n",
        "    y_pred_iris_knn7_2 = knn7.predict(X_test_2)\n",
        "    acc_test_iris_knn7_2 =  accuracy_score(y_test, y_pred_iris_knn7_2)\n",
        "    acc_test_result_knn7_2.append(acc_test_iris_knn7_2)\n",
        "    confusion_matrix_list_knn7_2.append(confusion_matrix(y_test, y_pred_iris_knn7_2))\n",
        "\n",
        "\n",
        "    sleep(0.1)"
      ],
      "metadata": {
        "id": "-wgAKC65AKGC",
        "colab": {
          "base_uri": "https://localhost:8080/",
          "height": 49,
          "referenced_widgets": [
            "feccb12179e642ac9792921f7606b538",
            "dd5687eb60d94957b81350c2538b2599",
            "5979168e8e674405a8415b78e014e920",
            "15c62ef4181449cd93693461dddd0bc3",
            "e6471830cd63421888d29007c57800f6",
            "cdda1341db81477d89993c6101bd3a0b",
            "fc49e587930747418f319b712e3bcdd9",
            "4c78380e86dd4fd99aed2c65968e19d9",
            "248089fbd2084a2fb24e4d1627ce77e1",
            "507f9a0c507b430a809936ae6f3967b2",
            "6394e7e4f1904bd288177043eb379683"
          ]
        },
        "outputId": "842a19fe-0238-4961-fe82-00382e938c3f"
      },
      "execution_count": null,
      "outputs": [
        {
          "output_type": "display_data",
          "data": {
            "text/plain": [
              "  0%|          | 0/50 [00:00<?, ?it/s]"
            ],
            "application/vnd.jupyter.widget-view+json": {
              "version_major": 2,
              "version_minor": 0,
              "model_id": "feccb12179e642ac9792921f7606b538"
            }
          },
          "metadata": {}
        }
      ]
    },
    {
      "cell_type": "code",
      "source": [
        "from sklearn.metrics import ConfusionMatrixDisplay\n",
        "import matplotlib.pyplot as plt"
      ],
      "metadata": {
        "id": "p6lHzMlKO_Ob"
      },
      "execution_count": null,
      "outputs": []
    },
    {
      "cell_type": "code",
      "source": [
        "nc = np.sum(confusion_matrix_list, axis=0)\n",
        "nn = np.sum(confusion_matrix_list_nn, axis=0)\n",
        "knn3 = np.sum(confusion_matrix_list_knn3, axis=0)\n",
        "knn5 = np.sum(confusion_matrix_list_knn5, axis=0)\n",
        "knn7 = np.sum(confusion_matrix_list_knn7, axis=0)\n",
        "\n",
        "nc_2 = np.sum(confusion_matrix_list_2, axis=0)\n",
        "nn_2 = np.sum(confusion_matrix_list_nn_2, axis=0)\n",
        "knn3_2 = np.sum(confusion_matrix_list_knn3_2, axis=0)\n",
        "knn5_2 = np.sum(confusion_matrix_list_knn5_2, axis=0)\n",
        "knn7_2 = np.sum(confusion_matrix_list_knn7_2, axis=0)"
      ],
      "metadata": {
        "id": "EgN-IIEkg6VX"
      },
      "execution_count": null,
      "outputs": []
    },
    {
      "cell_type": "code",
      "source": [
        "target_names = ['setosa', 'versicolor', 'virginica']\n",
        "\n",
        "\n",
        "fig, ax = plt.subplots(figsize=(8, 6))\n",
        "im = ax.imshow(nc, cmap='Oranges')\n",
        "\n",
        "ax.set_xticks(np.arange(len(target_names)))\n",
        "ax.set_yticks(np.arange(len(target_names)))\n",
        "\n",
        "ax.set_xticklabels(target_names)\n",
        "ax.set_yticklabels(target_names)\n",
        "\n",
        "plt.setp(ax.get_xticklabels(), rotation=45, ha=\"right\",\n",
        "         rotation_mode=\"anchor\")\n",
        "\n",
        "for i in range(len(target_names)):\n",
        "    for j in range(len(target_names)):\n",
        "        text = ax.text(j, i, nc[i, j],\n",
        "                       ha=\"center\", va=\"center\", color=\"black\")\n",
        "\n",
        "ax.set_title(\"Confusion Matrix DMC\")\n",
        "\n",
        "fig.tight_layout()\n",
        "plt.show()"
      ],
      "metadata": {
        "id": "9X6g50HhQMTT",
        "colab": {
          "base_uri": "https://localhost:8080/",
          "height": 607
        },
        "outputId": "1f2f2a93-0d65-4c0c-e411-fcbc4ebc9257"
      },
      "execution_count": null,
      "outputs": [
        {
          "output_type": "display_data",
          "data": {
            "text/plain": [
              "<Figure size 800x600 with 1 Axes>"
            ],
            "image/png": "[encoded data removed]"
          },
          "metadata": {}
        }
      ]
    },
    {
      "cell_type": "code",
      "source": [
        "target_names = ['setosa', 'versicolor', 'virginica']\n",
        "\n",
        "\n",
        "fig, ax = plt.subplots(figsize=(8, 6))\n",
        "im = ax.imshow(nc_2, cmap='Oranges')\n",
        "\n",
        "ax.set_xticks(np.arange(len(target_names)))\n",
        "ax.set_yticks(np.arange(len(target_names)))\n",
        "\n",
        "ax.set_xticklabels(target_names)\n",
        "ax.set_yticklabels(target_names)\n",
        "\n",
        "plt.setp(ax.get_xticklabels(), rotation=45, ha=\"right\",\n",
        "         rotation_mode=\"anchor\")\n",
        "\n",
        "for i in range(len(target_names)):\n",
        "    for j in range(len(target_names)):\n",
        "        text = ax.text(j, i, nc_2[i, j],\n",
        "                       ha=\"center\", va=\"center\", color=\"black\")\n",
        "\n",
        "ax.set_title(\"Confusion Matrix DMC com 2 Features\")\n",
        "\n",
        "fig.tight_layout()\n",
        "plt.show()"
      ],
      "metadata": {
        "colab": {
          "base_uri": "https://localhost:8080/",
          "height": 607
        },
        "id": "LGgK6TlfLzcn",
        "outputId": "199e28bf-4b08-4c5e-87f6-977d3f395037"
      },
      "execution_count": null,
      "outputs": [
        {
          "output_type": "display_data",
          "data": {
            "text/plain": [
              "<Figure size 800x600 with 1 Axes>"
            ],
            "image/png": "[encoded data removed]"
          },
          "metadata": {}
        }
      ]
    },
    {
      "cell_type": "code",
      "source": [
        "target_names = ['setosa', 'versicolor', 'virginica']\n",
        "\n",
        "\n",
        "fig, ax = plt.subplots(figsize=(8, 6))\n",
        "im = ax.imshow(nn, cmap='Oranges')\n",
        "\n",
        "ax.set_xticks(np.arange(len(target_names)))\n",
        "ax.set_yticks(np.arange(len(target_names)))\n",
        "\n",
        "ax.set_xticklabels(target_names)\n",
        "ax.set_yticklabels(target_names)\n",
        "\n",
        "plt.setp(ax.get_xticklabels(), rotation=45, ha=\"right\",\n",
        "         rotation_mode=\"anchor\")\n",
        "\n",
        "for i in range(len(target_names)):\n",
        "    for j in range(len(target_names)):\n",
        "        text = ax.text(j, i, nn[i, j],\n",
        "                       ha=\"center\", va=\"center\", color=\"black\")\n",
        "\n",
        "ax.set_title(\"Confusion Matrix Nearest Neightbor\")\n",
        "\n",
        "fig.tight_layout()\n",
        "plt.show()"
      ],
      "metadata": {
        "id": "CuoJsgwseFdr",
        "colab": {
          "base_uri": "https://localhost:8080/",
          "height": 607
        },
        "outputId": "22a49837-4564-49fe-b481-f6c801c46a33"
      },
      "execution_count": null,
      "outputs": [
        {
          "output_type": "display_data",
          "data": {
            "text/plain": [
              "<Figure size 800x600 with 1 Axes>"
            ],
            "image/png": "[encoded data removed]"
          },
          "metadata": {}
        }
      ]
    },
    {
      "cell_type": "code",
      "source": [
        "target_names = ['setosa', 'versicolor', 'virginica']\n",
        "\n",
        "\n",
        "fig, ax = plt.subplots(figsize=(8, 6))\n",
        "im = ax.imshow(nn, cmap='Oranges')\n",
        "\n",
        "ax.set_xticks(np.arange(len(target_names)))\n",
        "ax.set_yticks(np.arange(len(target_names)))\n",
        "\n",
        "ax.set_xticklabels(target_names)\n",
        "ax.set_yticklabels(target_names)\n",
        "\n",
        "plt.setp(ax.get_xticklabels(), rotation=45, ha=\"right\",\n",
        "         rotation_mode=\"anchor\")\n",
        "\n",
        "for i in range(len(target_names)):\n",
        "    for j in range(len(target_names)):\n",
        "        text = ax.text(j, i, nn_2[i, j],\n",
        "                       ha=\"center\", va=\"center\", color=\"black\")\n",
        "\n",
        "ax.set_title(\"Confusion Matrix Nearest Neightbor com 2 Features\")\n",
        "\n",
        "fig.tight_layout()\n",
        "plt.show()"
      ],
      "metadata": {
        "colab": {
          "base_uri": "https://localhost:8080/",
          "height": 607
        },
        "id": "EzJoodyqMFnL",
        "outputId": "0fa41e0d-ae98-4da5-fcc1-f54f41513755"
      },
      "execution_count": null,
      "outputs": [
        {
          "output_type": "display_data",
          "data": {
            "text/plain": [
              "<Figure size 800x600 with 1 Axes>"
            ],
            "image/png": "[encoded data removed]"
          },
          "metadata": {}
        }
      ]
    },
    {
      "cell_type": "code",
      "source": [
        "target_names = ['setosa', 'versicolor', 'virginica']\n",
        "\n",
        "\n",
        "fig, ax = plt.subplots(figsize=(8, 6))\n",
        "im = ax.imshow(knn3, cmap='Oranges')\n",
        "\n",
        "ax.set_xticks(np.arange(len(target_names)))\n",
        "ax.set_yticks(np.arange(len(target_names)))\n",
        "\n",
        "ax.set_xticklabels(target_names)\n",
        "ax.set_yticklabels(target_names)\n",
        "\n",
        "plt.setp(ax.get_xticklabels(), rotation=45, ha=\"right\",\n",
        "         rotation_mode=\"anchor\")\n",
        "\n",
        "for i in range(len(target_names)):\n",
        "    for j in range(len(target_names)):\n",
        "        text = ax.text(j, i, knn3[i, j],\n",
        "                       ha=\"center\", va=\"center\", color=\"black\")\n",
        "\n",
        "ax.set_title(\"Confusion Matrix KNN3\")\n",
        "\n",
        "fig.tight_layout()\n",
        "plt.show()"
      ],
      "metadata": {
        "id": "qxqoHk_EfLw_",
        "colab": {
          "base_uri": "https://localhost:8080/",
          "height": 607
        },
        "outputId": "acc0060c-c281-45c5-bf09-83a000e2acdc"
      },
      "execution_count": null,
      "outputs": [
        {
          "output_type": "display_data",
          "data": {
            "text/plain": [
              "<Figure size 800x600 with 1 Axes>"
            ],
            "image/png": "[encoded data removed]"
          },
          "metadata": {}
        }
      ]
    },
    {
      "cell_type": "code",
      "source": [
        "target_names = ['setosa', 'versicolor', 'virginica']\n",
        "\n",
        "\n",
        "fig, ax = plt.subplots(figsize=(8, 6))\n",
        "im = ax.imshow(knn3_2, cmap='Oranges')\n",
        "\n",
        "ax.set_xticks(np.arange(len(target_names)))\n",
        "ax.set_yticks(np.arange(len(target_names)))\n",
        "\n",
        "ax.set_xticklabels(target_names)\n",
        "ax.set_yticklabels(target_names)\n",
        "\n",
        "plt.setp(ax.get_xticklabels(), rotation=45, ha=\"right\",\n",
        "         rotation_mode=\"anchor\")\n",
        "\n",
        "for i in range(len(target_names)):\n",
        "    for j in range(len(target_names)):\n",
        "        text = ax.text(j, i, knn3_2[i, j],\n",
        "                       ha=\"center\", va=\"center\", color=\"black\")\n",
        "\n",
        "ax.set_title(\"Confusion Matrix KNN3 com 2 Features\")\n",
        "\n",
        "fig.tight_layout()\n",
        "plt.show()"
      ],
      "metadata": {
        "colab": {
          "base_uri": "https://localhost:8080/",
          "height": 607
        },
        "id": "DmCotnb9Mva2",
        "outputId": "0f873293-cda4-4336-f8c5-a8dbd4384b19"
      },
      "execution_count": null,
      "outputs": [
        {
          "output_type": "display_data",
          "data": {
            "text/plain": [
              "<Figure size 800x600 with 1 Axes>"
            ],
            "image/png": "[encoded data removed]"
          },
          "metadata": {}
        }
      ]
    },
    {
      "cell_type": "code",
      "source": [
        "target_names = ['setosa', 'versicolor', 'virginica']\n",
        "\n",
        "\n",
        "fig, ax = plt.subplots(figsize=(8, 6))\n",
        "im = ax.imshow(knn5, cmap='Oranges')\n",
        "\n",
        "ax.set_xticks(np.arange(len(target_names)))\n",
        "ax.set_yticks(np.arange(len(target_names)))\n",
        "\n",
        "ax.set_xticklabels(target_names)\n",
        "ax.set_yticklabels(target_names)\n",
        "\n",
        "plt.setp(ax.get_xticklabels(), rotation=45, ha=\"right\",\n",
        "         rotation_mode=\"anchor\")\n",
        "\n",
        "for i in range(len(target_names)):\n",
        "    for j in range(len(target_names)):\n",
        "        text = ax.text(j, i, knn5[i, j],\n",
        "                       ha=\"center\", va=\"center\", color=\"black\")\n",
        "\n",
        "ax.set_title(\"Confusion Matrix KNN5\")\n",
        "\n",
        "fig.tight_layout()\n",
        "plt.show()"
      ],
      "metadata": {
        "id": "7cqGAS_CfVKH",
        "colab": {
          "base_uri": "https://localhost:8080/",
          "height": 607
        },
        "outputId": "57307e9c-e49a-4a94-811f-b3a2cafb0ca8"
      },
      "execution_count": null,
      "outputs": [
        {
          "output_type": "display_data",
          "data": {
            "text/plain": [
              "<Figure size 800x600 with 1 Axes>"
            ],
            "image/png": "[encoded data removed]"
          },
          "metadata": {}
        }
      ]
    },
    {
      "cell_type": "code",
      "source": [
        "target_names = ['setosa', 'versicolor', 'virginica']\n",
        "\n",
        "\n",
        "fig, ax = plt.subplots(figsize=(8, 6))\n",
        "im = ax.imshow(knn5_2, cmap='Oranges')\n",
        "\n",
        "ax.set_xticks(np.arange(len(target_names)))\n",
        "ax.set_yticks(np.arange(len(target_names)))\n",
        "\n",
        "ax.set_xticklabels(target_names)\n",
        "ax.set_yticklabels(target_names)\n",
        "\n",
        "plt.setp(ax.get_xticklabels(), rotation=45, ha=\"right\",\n",
        "         rotation_mode=\"anchor\")\n",
        "\n",
        "for i in range(len(target_names)):\n",
        "    for j in range(len(target_names)):\n",
        "        text = ax.text(j, i, knn5_2[i, j],\n",
        "                       ha=\"center\", va=\"center\", color=\"black\")\n",
        "\n",
        "ax.set_title(\"Confusion Matrix KNN5 com 2 Features\")\n",
        "\n",
        "fig.tight_layout()\n",
        "plt.show()"
      ],
      "metadata": {
        "colab": {
          "base_uri": "https://localhost:8080/",
          "height": 607
        },
        "id": "LMz4KeMMtseG",
        "outputId": "c3067be5-2bff-45f4-d9b7-158801dd1879"
      },
      "execution_count": null,
      "outputs": [
        {
          "output_type": "display_data",
          "data": {
            "text/plain": [
              "<Figure size 800x600 with 1 Axes>"
            ],
            "image/png": "[encoded data removed]"
          },
          "metadata": {}
        }
      ]
    },
    {
      "cell_type": "code",
      "source": [
        "target_names = ['setosa', 'versicolor', 'virginica']\n",
        "\n",
        "\n",
        "fig, ax = plt.subplots(figsize=(8, 6))\n",
        "im = ax.imshow(knn7, cmap='Oranges')\n",
        "\n",
        "ax.set_xticks(np.arange(len(target_names)))\n",
        "ax.set_yticks(np.arange(len(target_names)))\n",
        "\n",
        "ax.set_xticklabels(target_names)\n",
        "ax.set_yticklabels(target_names)\n",
        "\n",
        "plt.setp(ax.get_xticklabels(), rotation=45, ha=\"right\",\n",
        "         rotation_mode=\"anchor\")\n",
        "\n",
        "for i in range(len(target_names)):\n",
        "    for j in range(len(target_names)):\n",
        "        text = ax.text(j, i, knn7[i, j],\n",
        "                       ha=\"center\", va=\"center\", color=\"black\")\n",
        "\n",
        "ax.set_title(\"Confusion Matrix KNN7\")\n",
        "\n",
        "fig.tight_layout()\n",
        "plt.show()"
      ],
      "metadata": {
        "id": "bCIoXU86fat1",
        "colab": {
          "base_uri": "https://localhost:8080/",
          "height": 607
        },
        "outputId": "580a5fe1-d9eb-47c2-d330-8644de16066a"
      },
      "execution_count": null,
      "outputs": [
        {
          "output_type": "display_data",
          "data": {
            "text/plain": [
              "<Figure size 800x600 with 1 Axes>"
            ],
            "image/png": "[encoded data removed]"
          },
          "metadata": {}
        }
      ]
    },
    {
      "cell_type": "code",
      "source": [
        "target_names = ['setosa', 'versicolor', 'virginica']\n",
        "\n",
        "\n",
        "fig, ax = plt.subplots(figsize=(8, 6))\n",
        "im = ax.imshow(knn7_2, cmap='Oranges')\n",
        "\n",
        "ax.set_xticks(np.arange(len(target_names)))\n",
        "ax.set_yticks(np.arange(len(target_names)))\n",
        "\n",
        "ax.set_xticklabels(target_names)\n",
        "ax.set_yticklabels(target_names)\n",
        "\n",
        "plt.setp(ax.get_xticklabels(), rotation=45, ha=\"right\",\n",
        "         rotation_mode=\"anchor\")\n",
        "\n",
        "for i in range(len(target_names)):\n",
        "    for j in range(len(target_names)):\n",
        "        text = ax.text(j, i, knn7_2[i, j],\n",
        "                       ha=\"center\", va=\"center\", color=\"black\")\n",
        "\n",
        "ax.set_title(\"Confusion Matrix KNN7 com 2 Features\")\n",
        "\n",
        "fig.tight_layout()\n",
        "plt.show()"
      ],
      "metadata": {
        "colab": {
          "base_uri": "https://localhost:8080/",
          "height": 607
        },
        "id": "ndaoM8DWNIJP",
        "outputId": "a74e7ced-5242-4676-a3aa-86e0a023fa86"
      },
      "execution_count": null,
      "outputs": [
        {
          "output_type": "display_data",
          "data": {
            "text/plain": [
              "<Figure size 800x600 with 1 Axes>"
            ],
            "image/png": "[encoded data removed]"
          },
          "metadata": {}
        }
      ]
    },
    {
      "cell_type": "code",
      "source": [
        "data_tuples = list(zip(acc_test_result, ))\n",
        "df_res_test = pd.DataFrame(data_tuples, columns=['accuracy_score_test'])\n",
        "data_tuples_2 = list(zip(acc_test_result_2, ))\n",
        "df_res_test_2 = pd.DataFrame(data_tuples_2, columns=['accuracy_score_test'])"
      ],
      "metadata": {
        "id": "wCl4Lm6DFh3n"
      },
      "execution_count": null,
      "outputs": []
    },
    {
      "cell_type": "code",
      "source": [
        "df_res_test_mean = pd.DataFrame(df_res_test.mean().to_dict(),index=[df_res_test.index.values[-1]])\n",
        "df_res_test_mean = df_res_test_mean.reset_index()\n",
        "df_res_test_mean = df_res_test_mean.drop(['index'], axis=1)\n",
        "df_res_test_mean = df_res_test_mean.rename_axis('Classifier')\n",
        "df_res_test_mean = df_res_test_mean.rename(index={0: 'DMC'})\n",
        "df_res_test_mean = df_res_test_mean.rename_axis('Classifier').rename_axis('metrics', axis='columns')\n",
        "\n",
        "df_res_test_mean_2 = pd.DataFrame(df_res_test_2.mean().to_dict(),index=[df_res_test_2.index.values[-1]])\n",
        "df_res_test_mean_2 = df_res_test_mean_2.reset_index()\n",
        "df_res_test_mean_2 = df_res_test_mean_2.drop(['index'], axis=1)\n",
        "df_res_test_mean_2 = df_res_test_mean_2.rename_axis('Classifier')\n",
        "df_res_test_mean_2 = df_res_test_mean_2.rename(index={0: 'DMC com 2 Features'})\n",
        "df_res_test_mean_2 = df_res_test_mean_2.rename_axis('Classifier').rename_axis('metrics', axis='columns')"
      ],
      "metadata": {
        "id": "j1OX412dJVJD"
      },
      "execution_count": null,
      "outputs": []
    },
    {
      "cell_type": "code",
      "source": [
        "df_res_test_std = pd.DataFrame(df_res_test.std().to_dict(),index=[df_res_test.index.values[-1]])\n",
        "df_res_test_std = df_res_test_std.reset_index()\n",
        "df_res_test_std = df_res_test_std.drop(['index'], axis=1)\n",
        "df_res_test_std = df_res_test_std.rename_axis('Classifier')\n",
        "df_res_test_std = df_res_test_std.rename(index={0: 'DMC'})\n",
        "df_res_test_std = df_res_test_std.rename_axis('Classifier').rename_axis('metrics', axis='columns')\n",
        "\n",
        "df_res_test_std_2 = pd.DataFrame(df_res_test_2.std().to_dict(),index=[df_res_test_2.index.values[-1]])\n",
        "df_res_test_std_2 = df_res_test_std_2.reset_index()\n",
        "df_res_test_std_2 = df_res_test_std_2.drop(['index'], axis=1)\n",
        "df_res_test_std_2 = df_res_test_std_2.rename_axis('Classifier com 2 Features')\n",
        "df_res_test_std_2 = df_res_test_std_2.rename(index={0: 'DMC com 2 Features'})\n",
        "df_res_test_std_2 = df_res_test_std_2.rename_axis('Classifier com 2 Features').rename_axis('metrics', axis='columns')"
      ],
      "metadata": {
        "id": "lQXPJ-BWKNyC"
      },
      "execution_count": null,
      "outputs": []
    },
    {
      "cell_type": "code",
      "source": [
        "df_res_test_mean.columns = [col.split('_')[0] + '_mean' for col in df_res_test_mean.columns]\n",
        "df_res_test_std.columns = [col.split('_')[0] + '_std' for col in df_res_test_std.columns]\n",
        "df_res_test_mean_2.columns = [col.split('_')[0] + '_mean' for col in df_res_test_mean_2.columns]\n",
        "df_res_test_std_2.columns = [col.split('_')[0] + '_std' for col in df_res_test_std_2.columns]"
      ],
      "metadata": {
        "id": "sIqgg3gFKcSx"
      },
      "execution_count": null,
      "outputs": []
    },
    {
      "cell_type": "code",
      "source": [
        "metrics_df_res_test = pd.concat([df_res_test_mean, df_res_test_std], axis=1)\n",
        "df_res_test_dmc = metrics_df_res_test.sort_index(axis=1)\n",
        "metrics_df_res_test_2 = pd.concat([df_res_test_mean_2, df_res_test_std_2], axis=1)\n",
        "df_res_test_dmc_2 = metrics_df_res_test_2.sort_index(axis=1)"
      ],
      "metadata": {
        "id": "Uq00IhKhKf9q"
      },
      "execution_count": null,
      "outputs": []
    },
    {
      "cell_type": "code",
      "source": [
        "data_tuples_nn = list(zip(acc_test_result_nn, ))\n",
        "df_res_test_nn = pd.DataFrame(data_tuples_nn, columns=['accuracy_score_test'])\n",
        "data_tuples_nn_2 = list(zip(acc_test_result_nn_2, ))\n",
        "df_res_test_nn_2 = pd.DataFrame(data_tuples_nn_2, columns=['accuracy_score_test'])"
      ],
      "metadata": {
        "id": "KMHAZOCjqJmd"
      },
      "execution_count": null,
      "outputs": []
    },
    {
      "cell_type": "code",
      "source": [
        "df_res_test_mean_nn = pd.DataFrame(df_res_test_nn.mean().to_dict(),index=[df_res_test_nn.index.values[-1]])\n",
        "df_res_test_mean_nn = df_res_test_mean_nn.reset_index()\n",
        "df_res_test_mean_nn = df_res_test_mean_nn.drop(['index'], axis=1)\n",
        "df_res_test_mean_nn = df_res_test_mean_nn.rename_axis('Classifier')\n",
        "df_res_test_mean_nn = df_res_test_mean_nn.rename(index={0: 'Nearest Neighbors'})\n",
        "df_res_test_mean_nn = df_res_test_mean_nn.rename_axis('Classifier').rename_axis('metrics', axis='columns')\n",
        "\n",
        "df_res_test_mean_nn_2 = pd.DataFrame(df_res_test_nn_2.mean().to_dict(),index=[df_res_test_nn_2.index.values[-1]])\n",
        "df_res_test_mean_nn_2 = df_res_test_mean_nn_2.reset_index()\n",
        "df_res_test_mean_nn_2 = df_res_test_mean_nn_2.drop(['index'], axis=1)\n",
        "df_res_test_mean_nn_2 = df_res_test_mean_nn_2.rename_axis('Classifier com 2 Features')\n",
        "df_res_test_mean_nn_2 = df_res_test_mean_nn_2.rename(index={0: 'Nearest Neighbors com 2 Features'})\n",
        "df_res_test_mean_nn_2 = df_res_test_mean_nn_2.rename_axis('Classifier com 2 Features').rename_axis('metrics', axis='columns')"
      ],
      "metadata": {
        "id": "FOwFAT0aqXFO"
      },
      "execution_count": null,
      "outputs": []
    },
    {
      "cell_type": "code",
      "source": [
        "df_res_test_std_nn = pd.DataFrame(df_res_test_nn.std().to_dict(),index=[df_res_test_nn.index.values[-1]])\n",
        "\n",
        "df_res_test_std_nn = df_res_test_std_nn.reset_index()\n",
        "df_res_test_std_nn = df_res_test_std_nn.drop(['index'], axis=1)\n",
        "df_res_test_std_nn = df_res_test_std_nn.rename_axis('Classifier')\n",
        "df_res_test_std_nn = df_res_test_std_nn.rename(index={0: 'Nearest Neighbors'})\n",
        "df_res_test_std_nn = df_res_test_std_nn.rename_axis('Classifier').rename_axis('metrics', axis='columns')\n",
        "\n",
        "df_res_test_std_nn_2 = pd.DataFrame(df_res_test_nn_2.std().to_dict(),index=[df_res_test_nn_2.index.values[-1]])\n",
        "df_res_test_std_nn_2 = df_res_test_std_nn_2.reset_index()\n",
        "df_res_test_std_nn_2 = df_res_test_std_nn_2.drop(['index'], axis=1)\n",
        "df_res_test_std_nn_2 = df_res_test_std_nn_2.rename_axis('Classifier com 2 Features')\n",
        "df_res_test_std_nn_2 = df_res_test_std_nn_2.rename(index={0: 'Nearest Neighbors com 2 Features'})\n",
        "df_res_test_std_nn_2 = df_res_test_std_nn_2.rename_axis('Classifier com 2 Features').rename_axis('metrics', axis='columns')"
      ],
      "metadata": {
        "id": "8RXl4PYnq13a"
      },
      "execution_count": null,
      "outputs": []
    },
    {
      "cell_type": "code",
      "source": [
        "df_res_test_mean_nn.columns = [col.split('_')[0] + '_mean' for col in df_res_test_mean_nn.columns]\n",
        "df_res_test_std_nn.columns = [col.split('_')[0] + '_std' for col in df_res_test_std_nn.columns]\n",
        "df_res_test_mean_nn_2.columns = [col.split('_')[0] + '_mean' for col in df_res_test_mean_nn_2.columns]\n",
        "df_res_test_std_nn_2.columns = [col.split('_')[0] + '_std' for col in df_res_test_std_nn_2.columns]"
      ],
      "metadata": {
        "id": "CUGoxhGarS1m"
      },
      "execution_count": null,
      "outputs": []
    },
    {
      "cell_type": "code",
      "source": [
        "metrics_df_test_nn = pd.concat([df_res_test_mean_nn, df_res_test_std_nn], axis=1)\n",
        "df_res_test_nn = metrics_df_test_nn.sort_index(axis=1)\n",
        "metrics_df_test_nn_2 = pd.concat([df_res_test_mean_nn_2, df_res_test_std_nn_2], axis=1)\n",
        "df_res_test_nn_2 = metrics_df_test_nn_2.sort_index(axis=1)"
      ],
      "metadata": {
        "id": "FdVPDWKArbrI"
      },
      "execution_count": null,
      "outputs": []
    },
    {
      "cell_type": "code",
      "source": [
        "data_tuples_knn3 = list(zip(acc_test_result_knn3, ))\n",
        "df_res_test_knn3 = pd.DataFrame(data_tuples_knn3, columns=['accuracy_score_test'])\n",
        "data_tuples_knn3_2 = list(zip(acc_test_result_knn3_2, ))\n",
        "df_res_test_knn3_2 = pd.DataFrame(data_tuples_knn3_2, columns=['accuracy_score_test'])"
      ],
      "metadata": {
        "id": "7O7O3FAitZu7"
      },
      "execution_count": null,
      "outputs": []
    },
    {
      "cell_type": "code",
      "source": [
        "df_res_test_mean_knn3 = pd.DataFrame(df_res_test_knn3.mean().to_dict(),index=[df_res_test_knn3.index.values[-1]])\n",
        "df_res_test_mean_knn3 = df_res_test_mean_knn3.reset_index()\n",
        "df_res_test_mean_knn3 = df_res_test_mean_knn3.drop(['index'], axis=1)\n",
        "df_res_test_mean_knn3 = df_res_test_mean_knn3.rename_axis('Classifier')\n",
        "df_res_test_mean_knn3 = df_res_test_mean_knn3.rename(index={0: 'K Nearest Neighbors k=3'})\n",
        "df_res_test_mean_knn3 = df_res_test_mean_knn3.rename_axis('Classifier').rename_axis('metrics', axis='columns')\n",
        "\n",
        "df_res_test_mean_knn3_2 = pd.DataFrame(df_res_test_knn3_2.mean().to_dict(),index=[df_res_test_knn3_2.index.values[-1]])\n",
        "df_res_test_mean_knn3_2 = df_res_test_mean_knn3_2.reset_index()\n",
        "df_res_test_mean_knn3_2 = df_res_test_mean_knn3_2.drop(['index'], axis=1)\n",
        "df_res_test_mean_knn3_2 = df_res_test_mean_knn3_2.rename_axis('Classifier com 2 Features')\n",
        "df_res_test_mean_knn3_2 = df_res_test_mean_knn3_2.rename(index={0: 'K Nearest Neighbors k=3 com 2 Features'})\n",
        "df_res_test_mean_knn3_2 = df_res_test_mean_knn3_2.rename_axis('Classifier com 2 Features').rename_axis('metrics', axis='columns')"
      ],
      "metadata": {
        "id": "ZHORBZHswFMw"
      },
      "execution_count": null,
      "outputs": []
    },
    {
      "cell_type": "code",
      "source": [
        "df_res_test_std_knn3 = pd.DataFrame(df_res_test_knn3.std().to_dict(),index=[df_res_test_knn3.index.values[-1]])\n",
        "df_res_test_std_knn3 = df_res_test_std_knn3.reset_index()\n",
        "df_res_test_std_knn3 = df_res_test_std_knn3.drop(['index'], axis=1)\n",
        "df_res_test_std_knn3 = df_res_test_std_knn3.rename_axis('Classifier')\n",
        "df_res_test_std_knn3 = df_res_test_std_knn3.rename(index={0: 'K Nearest Neighbors k=3'})\n",
        "df_res_test_std_knn3 = df_res_test_std_knn3.rename_axis('Classifier').rename_axis('metrics', axis='columns')\n",
        "df_res_test_std_knn3_2 = pd.DataFrame(df_res_test_knn3_2.std().to_dict(),index=[df_res_test_knn3_2.index.values[-1]])\n",
        "df_res_test_std_knn3_2 = df_res_test_std_knn3_2.reset_index()\n",
        "df_res_test_std_knn3_2 = df_res_test_std_knn3_2.drop(['index'], axis=1)\n",
        "df_res_test_std_knn3_2 = df_res_test_std_knn3_2.rename_axis('Classifier com 2 Features')\n",
        "df_res_test_std_knn3_2 = df_res_test_std_knn3_2.rename(index={0: 'K Nearest Neighbors k=3 com 2 Features'})\n",
        "df_res_test_std_knn3_2 = df_res_test_std_knn3_2.rename_axis('Classifier com 2 Features').rename_axis('metrics', axis='columns')"
      ],
      "metadata": {
        "id": "37OkMCRewFV2"
      },
      "execution_count": null,
      "outputs": []
    },
    {
      "cell_type": "code",
      "source": [
        "df_res_test_mean_knn3.columns = [col.split('_')[0] + '_mean' for col in df_res_test_mean_knn3.columns]\n",
        "df_res_test_std_knn3.columns = [col.split('_')[0] + '_std' for col in df_res_test_std_knn3.columns]\n",
        "df_res_test_mean_knn3_2.columns = [col.split('_')[0] + '_mean' for col in df_res_test_mean_knn3_2.columns]\n",
        "df_res_test_std_knn3_2.columns = [col.split('_')[0] + '_std' for col in df_res_test_std_knn3_2.columns]"
      ],
      "metadata": {
        "id": "Gr1F-mqDwFY3"
      },
      "execution_count": null,
      "outputs": []
    },
    {
      "cell_type": "code",
      "source": [
        "metrics_df_test_knn3 = pd.concat([df_res_test_mean_knn3, df_res_test_std_knn3], axis=1)\n",
        "df_res_test_knn3 = metrics_df_test_knn3.sort_index(axis=1)\n",
        "metrics_df_test_knn3_2 = pd.concat([df_res_test_mean_knn3_2, df_res_test_std_knn3_2], axis=1)\n",
        "df_res_test_knn3_2 = metrics_df_test_knn3_2.sort_index(axis=1)"
      ],
      "metadata": {
        "id": "dcv2L5qexN67"
      },
      "execution_count": null,
      "outputs": []
    },
    {
      "cell_type": "code",
      "source": [
        "data_tuples_knn5 = list(zip(acc_test_result_knn5, ))\n",
        "df_res_test_knn5 = pd.DataFrame(data_tuples_knn5, columns=['accuracy_score_test'])\n",
        "data_tuples_knn5_2 = list(zip(acc_test_result_knn5_2, ))\n",
        "df_res_test_knn5_2 = pd.DataFrame(data_tuples_knn5_2, columns=['accuracy_score_test'])\n"
      ],
      "metadata": {
        "id": "HFangmKZxN9U"
      },
      "execution_count": null,
      "outputs": []
    },
    {
      "cell_type": "code",
      "source": [
        "df_res_test_mean_knn5 = pd.DataFrame(df_res_test_knn5.mean().to_dict(),index=[df_res_test_knn5.index.values[-1]])\n",
        "df_res_test_mean_knn5 = df_res_test_mean_knn5.reset_index()\n",
        "df_res_test_mean_knn5 = df_res_test_mean_knn5.drop(['index'], axis=1)\n",
        "df_res_test_mean_knn5 = df_res_test_mean_knn5.rename_axis('Classifier')\n",
        "df_res_test_mean_knn5 = df_res_test_mean_knn5.rename(index={0: 'K Nearest Neighbors k=5'})\n",
        "df_res_test_mean_knn5 = df_res_test_mean_knn5.rename_axis('Classifier').rename_axis('metrics', axis='columns')\n",
        "\n",
        "df_res_test_mean_knn5_2 = pd.DataFrame(df_res_test_knn5_2.mean().to_dict(),index=[df_res_test_knn5_2.index.values[-1]])\n",
        "df_res_test_mean_knn5_2 = df_res_test_mean_knn5_2.reset_index()\n",
        "df_res_test_mean_knn5_2 = df_res_test_mean_knn5_2.drop(['index'], axis=1)\n",
        "df_res_test_mean_knn5_2 = df_res_test_mean_knn5_2.rename_axis('Classifier com 2 Features')\n",
        "df_res_test_mean_knn5_2 = df_res_test_mean_knn5_2.rename(index={0: 'K Nearest Neighbors k=5 com 2 Features'})\n",
        "df_res_test_mean_knn5_2 = df_res_test_mean_knn5_2.rename_axis('Classifier com 2 Features').rename_axis('metrics', axis='columns')\n",
        "\n"
      ],
      "metadata": {
        "id": "ydWfy4_nxN_e"
      },
      "execution_count": null,
      "outputs": []
    },
    {
      "cell_type": "code",
      "source": [
        "df_res_test_std_knn5 = pd.DataFrame(df_res_test_knn5.std().to_dict(),index=[df_res_test_knn5.index.values[-1]])\n",
        "df_res_test_std_knn5 = df_res_test_std_knn5.reset_index()\n",
        "df_res_test_std_knn5 = df_res_test_std_knn5.drop(['index'], axis=1)\n",
        "df_res_test_std_knn5 = df_res_test_std_knn5.rename_axis('Classifier')\n",
        "df_res_test_std_knn5 = df_res_test_std_knn5.rename(index={0: 'K Nearest Neighbors k=5'})\n",
        "df_res_test_std_knn5 = df_res_test_std_knn5.rename_axis('Classifier').rename_axis('metrics', axis='columns')\n",
        "\n",
        "df_res_test_std_knn5_2 = pd.DataFrame(df_res_test_knn5_2.std().to_dict(),index=[df_res_test_knn5_2.index.values[-1]])\n",
        "df_res_test_std_knn5_2 = df_res_test_std_knn5_2.reset_index()\n",
        "df_res_test_std_knn5_2 = df_res_test_std_knn5_2.drop(['index'], axis=1)\n",
        "df_res_test_std_knn5_2 = df_res_test_std_knn5_2.rename_axis('Classifier com 2 Features')\n",
        "df_res_test_std_knn5_2 = df_res_test_std_knn5_2.rename(index={0: 'K Nearest Neighbors k=5 com 2 Features'})\n",
        "df_res_test_std_knn5_2 = df_res_test_std_knn5_2.rename_axis('Classifier com 2 Features').rename_axis('metrics', axis='columns')"
      ],
      "metadata": {
        "id": "kyQ2gURkx-9K"
      },
      "execution_count": null,
      "outputs": []
    },
    {
      "cell_type": "code",
      "source": [
        "df_res_test_mean_knn5.columns = [col.split('_')[0] + '_mean' for col in df_res_test_mean_knn5.columns]\n",
        "df_res_test_std_knn5.columns = [col.split('_')[0] + '_std' for col in df_res_test_std_knn5.columns]\n",
        "df_res_test_mean_knn5_2.columns = [col.split('_')[0] + '_mean' for col in df_res_test_mean_knn5_2.columns]\n",
        "df_res_test_std_knn5_2.columns = [col.split('_')[0] + '_std' for col in df_res_test_std_knn5_2.columns]"
      ],
      "metadata": {
        "id": "8KPxLe_6x-_T"
      },
      "execution_count": null,
      "outputs": []
    },
    {
      "cell_type": "code",
      "source": [
        "metrics_df_test_knn5 = pd.concat([df_res_test_mean_knn5, df_res_test_std_knn5], axis=1)\n",
        "df_res_test_knn5 = metrics_df_test_knn5.sort_index(axis=1)\n",
        "metrics_df_test_knn5_2 = pd.concat([df_res_test_mean_knn5_2, df_res_test_std_knn5_2], axis=1)\n",
        "df_res_test_knn5_2 = metrics_df_test_knn5_2.sort_index(axis=1)\n"
      ],
      "metadata": {
        "id": "4mdFA7O_x_Bm"
      },
      "execution_count": null,
      "outputs": []
    },
    {
      "cell_type": "code",
      "source": [
        "data_tuples_knn7 = list(zip(acc_test_result_knn7, ))\n",
        "df_res_test_knn7 = pd.DataFrame(data_tuples_knn7, columns=['accuracy_score_test'])\n",
        "data_tuples_knn7_2 = list(zip(acc_test_result_knn7_2, ))\n",
        "df_res_test_knn7_2 = pd.DataFrame(data_tuples_knn7_2, columns=['accuracy_score_test'])"
      ],
      "metadata": {
        "id": "ltsslItex_Dt"
      },
      "execution_count": null,
      "outputs": []
    },
    {
      "cell_type": "code",
      "source": [
        "df_res_test_mean_knn7 = pd.DataFrame(df_res_test_knn7.mean().to_dict(),index=[df_res_test_knn7.index.values[-1]])\n",
        "df_res_test_mean_knn7 = df_res_test_mean_knn7.reset_index()\n",
        "df_res_test_mean_knn7 = df_res_test_mean_knn7.drop(['index'], axis=1)\n",
        "df_res_test_mean_knn7 = df_res_test_mean_knn7.rename_axis('Classifier')\n",
        "df_res_test_mean_knn7 = df_res_test_mean_knn7.rename(index={0: 'K Nearest Neighbors k=7'})\n",
        "df_res_test_mean_knn7 = df_res_test_mean_knn7.rename_axis('Classifier').rename_axis('metrics', axis='columns')\n",
        "\n",
        "df_res_test_mean_knn7_2 = pd.DataFrame(df_res_test_knn7_2.mean().to_dict(),index=[df_res_test_knn7_2.index.values[-1]])\n",
        "df_res_test_mean_knn7_2 = df_res_test_mean_knn7_2.reset_index()\n",
        "df_res_test_mean_knn7_2 = df_res_test_mean_knn7_2.drop(['index'], axis=1)\n",
        "df_res_test_mean_knn7_2 = df_res_test_mean_knn7_2.rename_axis('Classifier com 2 Features')\n",
        "df_res_test_mean_knn7_2 = df_res_test_mean_knn7_2.rename(index={0: 'K Nearest Neighbors k=7 com 2 Features'})\n",
        "df_res_test_mean_knn7_2 = df_res_test_mean_knn7_2.rename_axis('Classifier com 2 Features').rename_axis('metrics', axis='columns')"
      ],
      "metadata": {
        "id": "4iPV8whEx_Fs"
      },
      "execution_count": null,
      "outputs": []
    },
    {
      "cell_type": "code",
      "source": [
        "df_res_test_std_knn7 = pd.DataFrame(df_res_test_knn7.std().to_dict(),index=[df_res_test_knn7.index.values[-1]])\n",
        "\n",
        "df_res_test_std_knn7 = df_res_test_std_knn7.reset_index()\n",
        "df_res_test_std_knn7 = df_res_test_std_knn7.drop(['index'], axis=1)\n",
        "df_res_test_std_knn7 = df_res_test_std_knn7.rename_axis('Classifier')\n",
        "df_res_test_std_knn7 = df_res_test_std_knn7.rename(index={0: 'K Nearest Neighbors k=7'})\n",
        "df_res_test_std_knn7 = df_res_test_std_knn7.rename_axis('Classifier').rename_axis('metrics', axis='columns')\n",
        "\n",
        "df_res_test_std_knn7_2 = pd.DataFrame(df_res_test_knn7_2.std().to_dict(),index=[df_res_test_knn7_2.index.values[-1]])\n",
        "df_res_test_std_knn7_2 = df_res_test_std_knn7_2.reset_index()\n",
        "df_res_test_std_knn7_2 = df_res_test_std_knn7_2.drop(['index'], axis=1)\n",
        "df_res_test_std_knn7_2 = df_res_test_std_knn7_2.rename_axis('Classifier com 2 Features')\n",
        "df_res_test_std_knn7_2 = df_res_test_std_knn7_2.rename(index={0: 'K Nearest Neighbors k=7 com 2 Features'})\n",
        "df_res_test_std_knn7_2 = df_res_test_std_knn7_2.rename_axis('Classifier com 2 Features').rename_axis('metrics', axis='columns')"
      ],
      "metadata": {
        "id": "ppsCHowgydUk"
      },
      "execution_count": null,
      "outputs": []
    },
    {
      "cell_type": "code",
      "source": [
        "df_res_test_mean_knn7.columns = [col.split('_')[0] + '_mean' for col in df_res_test_mean_knn7.columns]\n",
        "df_res_test_std_knn7.columns = [col.split('_')[0] + '_std' for col in df_res_test_std_knn7.columns]\n",
        "df_res_test_mean_knn7_2.columns = [col.split('_')[0] + '_mean' for col in df_res_test_mean_knn7_2.columns]\n",
        "df_res_test_std_knn7_2.columns = [col.split('_')[0] + '_std' for col in df_res_test_std_knn7_2.columns]"
      ],
      "metadata": {
        "id": "hRpSrSjdydXX"
      },
      "execution_count": null,
      "outputs": []
    },
    {
      "cell_type": "code",
      "source": [
        "metrics_df_test_knn7 = pd.concat([df_res_test_mean_knn7, df_res_test_std_knn7], axis=1)\n",
        "df_res_test_knn7 = metrics_df_test_knn7.sort_index(axis=1)\n",
        "metrics_df_test_knn7_2 = pd.concat([df_res_test_mean_knn7_2, df_res_test_std_knn7_2], axis=1)\n",
        "df_res_test_knn7_2 = metrics_df_test_knn7_2.sort_index(axis=1)"
      ],
      "metadata": {
        "id": "4a-Z1CzyxOBZ"
      },
      "execution_count": null,
      "outputs": []
    },
    {
      "cell_type": "code",
      "source": [
        "classifiers_list = [df_res_test_dmc, df_res_test_nn, df_res_test_knn3, df_res_test_knn5, df_res_test_knn7]\n",
        "classifiers_results = pd.concat(classifiers_list)"
      ],
      "metadata": {
        "id": "zs-hA4dNCHUs"
      },
      "execution_count": null,
      "outputs": []
    },
    {
      "cell_type": "code",
      "source": [
        "classifiers_list_2 = [df_res_test_dmc_2, df_res_test_nn_2, df_res_test_knn3_2, df_res_test_knn5_2, df_res_test_knn7_2]\n",
        "classifiers_results_2 = pd.concat(classifiers_list_2)"
      ],
      "metadata": {
        "id": "AHSx9t_nUhdA"
      },
      "execution_count": null,
      "outputs": []
    },
    {
      "cell_type": "code",
      "source": [
        "classifiers_results.to_html('classifiers_results_test.html')\n",
        "classifiers_results"
      ],
      "metadata": {
        "colab": {
          "base_uri": "https://localhost:8080/",
          "height": 238
        },
        "id": "zbRUBQmzCuQI",
        "outputId": "3a17854e-18f5-4844-cc02-d0596b815f4b"
      },
      "execution_count": null,
      "outputs": [
        {
          "output_type": "execute_result",
          "data": {
            "text/plain": [
              "                         accuracy_mean  accuracy_std\n",
              "Classifier                                          \n",
              "DMC                           0.926000      0.039435\n",
              "Nearest Neighbors             0.956000      0.035914\n",
              "K Nearest Neighbors k=3       0.960000      0.030117\n",
              "K Nearest Neighbors k=5       0.962667      0.031327\n",
              "K Nearest Neighbors k=7       0.970000      0.027970"
            ],
            "text/html": [
              "\n",
              "  <div id=\"df-1bbc8a1b-58c6-459f-b1d7-6928e0671166\">\n",
              "    <div class=\"colab-df-container\">\n",
              "      <div>\n",
              "<style scoped>\n",
              "    .dataframe tbody tr th:only-of-type {\n",
              "        vertical-align: middle;\n",
              "    }\n",
              "\n",
              "    .dataframe tbody tr th {\n",
              "        vertical-align: top;\n",
              "    }\n",
              "\n",
              "    .dataframe thead th {\n",
              "        text-align: right;\n",
              "    }\n",
              "</style>\n",
              "<table border=\"1\" class=\"dataframe\">\n",
              "  <thead>\n",
              "    <tr style=\"text-align: right;\">\n",
              "      <th></th>\n",
              "      <th>accuracy_mean</th>\n",
              "      <th>accuracy_std</th>\n",
              "    </tr>\n",
              "    <tr>\n",
              "      <th>Classifier</th>\n",
              "      <th></th>\n",
              "      <th></th>\n",
              "    </tr>\n",
              "  </thead>\n",
              "  <tbody>\n",
              "    <tr>\n",
              "      <th>DMC</th>\n",
              "      <td>0.926000</td>\n",
              "      <td>0.039435</td>\n",
              "    </tr>\n",
              "    <tr>\n",
              "      <th>Nearest Neighbors</th>\n",
              "      <td>0.956000</td>\n",
              "      <td>0.035914</td>\n",
              "    </tr>\n",
              "    <tr>\n",
              "      <th>K Nearest Neighbors k=3</th>\n",
              "      <td>0.960000</td>\n",
              "      <td>0.030117</td>\n",
              "    </tr>\n",
              "    <tr>\n",
              "      <th>K Nearest Neighbors k=5</th>\n",
              "      <td>0.962667</td>\n",
              "      <td>0.031327</td>\n",
              "    </tr>\n",
              "    <tr>\n",
              "      <th>K Nearest Neighbors k=7</th>\n",
              "      <td>0.970000</td>\n",
              "      <td>0.027970</td>\n",
              "    </tr>\n",
              "  </tbody>\n",
              "</table>\n",
              "</div>\n",
              "      <button class=\"colab-df-convert\" onclick=\"convertToInteractive('df-1bbc8a1b-58c6-459f-b1d7-6928e0671166')\"\n",
              "              title=\"Convert this dataframe to an interactive table.\"\n",
              "              style=\"display:none;\">\n",
              "        \n",
              "  <svg xmlns=\"http://www.w3.org/2000/svg\" height=\"24px\"viewBox=\"0 0 24 24\"\n",
              "       width=\"24px\">\n",
              "    <path d=\"M0 0h24v24H0V0z\" fill=\"none\"/>\n",
              "    <path d=\"M18.56 5.44l.94 2.06.94-2.06 2.06-.94-2.06-.94-.94-2.06-.94 2.06-2.06.94zm-11 1L8.5 8.5l.94-2.06 2.06-.94-2.06-.94L8.5 2.5l-.94 2.06-2.06.94zm10 10l.94 2.06.94-2.06 2.06-.94-2.06-.94-.94-2.06-.94 2.06-2.06.94z\"/><path d=\"M17.41 7.96l-1.37-1.37c-.4-.4-.92-.59-1.43-.59-.52 0-1.04.2-1.43.59L10.3 9.45l-7.72 7.72c-.78.78-.78 2.05 0 2.83L4 21.41c.39.39.9.59 1.41.59.51 0 1.02-.2 1.41-.59l7.78-7.78 2.81-2.81c.8-.78.8-2.07 0-2.86zM5.41 20L4 18.59l7.72-7.72 1.47 1.35L5.41 20z\"/>\n",
              "  </svg>\n",
              "      </button>\n",
              "      \n",
              "  <style>\n",
              "    .colab-df-container {\n",
              "      display:flex;\n",
              "      flex-wrap:wrap;\n",
              "      gap: 12px;\n",
              "    }\n",
              "\n",
              "    .colab-df-convert {\n",
              "      background-color: #E8F0FE;\n",
              "      border: none;\n",
              "      border-radius: 50%;\n",
              "      cursor: pointer;\n",
              "      display: none;\n",
              "      fill: #1967D2;\n",
              "      height: 32px;\n",
              "      padding: 0 0 0 0;\n",
              "      width: 32px;\n",
              "    }\n",
              "\n",
              "    .colab-df-convert:hover {\n",
              "      background-color: #E2EBFA;\n",
              "      box-shadow: 0px 1px 2px rgba(60, 64, 67, 0.3), 0px 1px 3px 1px rgba(60, 64, 67, 0.15);\n",
              "      fill: #174EA6;\n",
              "    }\n",
              "\n",
              "    [theme=dark] .colab-df-convert {\n",
              "      background-color: #3B4455;\n",
              "      fill: #D2E3FC;\n",
              "    }\n",
              "\n",
              "    [theme=dark] .colab-df-convert:hover {\n",
              "      background-color: #434B5C;\n",
              "      box-shadow: 0px 1px 3px 1px rgba(0, 0, 0, 0.15);\n",
              "      filter: drop-shadow(0px 1px 2px rgba(0, 0, 0, 0.3));\n",
              "      fill: #FFFFFF;\n",
              "    }\n",
              "  </style>\n",
              "\n",
              "      <script>\n",
              "        const buttonEl =\n",
              "          document.querySelector('#df-1bbc8a1b-58c6-459f-b1d7-6928e0671166 button.colab-df-convert');\n",
              "        buttonEl.style.display =\n",
              "          google.colab.kernel.accessAllowed ? 'block' : 'none';\n",
              "\n",
              "        async function convertToInteractive(key) {\n",
              "          const element = document.querySelector('#df-1bbc8a1b-58c6-459f-b1d7-6928e0671166');\n",
              "          const dataTable =\n",
              "            await google.colab.kernel.invokeFunction('convertToInteractive',\n",
              "                                                     [key], {});\n",
              "          if (!dataTable) return;\n",
              "\n",
              "          const docLinkHtml = 'Like what you see? Visit the ' +\n",
              "            '<a target=\"_blank\" href=https://colab.research.google.com/notebooks/data_table.ipynb>data table notebook</a>'\n",
              "            + ' to learn more about interactive tables.';\n",
              "          element.innerHTML = '';\n",
              "          dataTable['output_type'] = 'display_data';\n",
              "          await google.colab.output.renderOutput(dataTable, element);\n",
              "          const docLink = document.createElement('div');\n",
              "          docLink.innerHTML = docLinkHtml;\n",
              "          element.appendChild(docLink);\n",
              "        }\n",
              "      </script>\n",
              "    </div>\n",
              "  </div>\n",
              "  "
            ]
          },
          "metadata": {},
          "execution_count": 51
        }
      ]
    },
    {
      "cell_type": "code",
      "source": [
        "classifiers_results_2.to_html('classifiers_results_2_test.html')\n",
        "classifiers_results_2.index.name = 'Classifier com 2 Features'\n",
        "classifiers_results_2\n"
      ],
      "metadata": {
        "colab": {
          "base_uri": "https://localhost:8080/",
          "height": 238
        },
        "id": "urcvdP7hWd4N",
        "outputId": "7c06742b-4bb1-40f1-e670-00ae14b781ae"
      },
      "execution_count": null,
      "outputs": [
        {
          "output_type": "execute_result",
          "data": {
            "text/plain": [
              "                                        accuracy_mean  accuracy_std\n",
              "Classifier com 2 Features                                          \n",
              "DMC com 2 Features                           0.967333      0.028958\n",
              "Nearest Neighbors com 2 Features             0.959333      0.037063\n",
              "K Nearest Neighbors k=3 com 2 Features       0.954667      0.037350\n",
              "K Nearest Neighbors k=5 com 2 Features       0.962000      0.033678\n",
              "K Nearest Neighbors k=7 com 2 Features       0.962000      0.033678"
            ],
            "text/html": [
              "\n",
              "  <div id=\"df-9b1b9fe4-3ce8-4042-96eb-bb0a2a0c438c\">\n",
              "    <div class=\"colab-df-container\">\n",
              "      <div>\n",
              "<style scoped>\n",
              "    .dataframe tbody tr th:only-of-type {\n",
              "        vertical-align: middle;\n",
              "    }\n",
              "\n",
              "    .dataframe tbody tr th {\n",
              "        vertical-align: top;\n",
              "    }\n",
              "\n",
              "    .dataframe thead th {\n",
              "        text-align: right;\n",
              "    }\n",
              "</style>\n",
              "<table border=\"1\" class=\"dataframe\">\n",
              "  <thead>\n",
              "    <tr style=\"text-align: right;\">\n",
              "      <th></th>\n",
              "      <th>accuracy_mean</th>\n",
              "      <th>accuracy_std</th>\n",
              "    </tr>\n",
              "    <tr>\n",
              "      <th>Classifier com 2 Features</th>\n",
              "      <th></th>\n",
              "      <th></th>\n",
              "    </tr>\n",
              "  </thead>\n",
              "  <tbody>\n",
              "    <tr>\n",
              "      <th>DMC com 2 Features</th>\n",
              "      <td>0.967333</td>\n",
              "      <td>0.028958</td>\n",
              "    </tr>\n",
              "    <tr>\n",
              "      <th>Nearest Neighbors com 2 Features</th>\n",
              "      <td>0.959333</td>\n",
              "      <td>0.037063</td>\n",
              "    </tr>\n",
              "    <tr>\n",
              "      <th>K Nearest Neighbors k=3 com 2 Features</th>\n",
              "      <td>0.954667</td>\n",
              "      <td>0.037350</td>\n",
              "    </tr>\n",
              "    <tr>\n",
              "      <th>K Nearest Neighbors k=5 com 2 Features</th>\n",
              "      <td>0.962000</td>\n",
              "      <td>0.033678</td>\n",
              "    </tr>\n",
              "    <tr>\n",
              "      <th>K Nearest Neighbors k=7 com 2 Features</th>\n",
              "      <td>0.962000</td>\n",
              "      <td>0.033678</td>\n",
              "    </tr>\n",
              "  </tbody>\n",
              "</table>\n",
              "</div>\n",
              "      <button class=\"colab-df-convert\" onclick=\"convertToInteractive('df-9b1b9fe4-3ce8-4042-96eb-bb0a2a0c438c')\"\n",
              "              title=\"Convert this dataframe to an interactive table.\"\n",
              "              style=\"display:none;\">\n",
              "        \n",
              "  <svg xmlns=\"http://www.w3.org/2000/svg\" height=\"24px\"viewBox=\"0 0 24 24\"\n",
              "       width=\"24px\">\n",
              "    <path d=\"M0 0h24v24H0V0z\" fill=\"none\"/>\n",
              "    <path d=\"M18.56 5.44l.94 2.06.94-2.06 2.06-.94-2.06-.94-.94-2.06-.94 2.06-2.06.94zm-11 1L8.5 8.5l.94-2.06 2.06-.94-2.06-.94L8.5 2.5l-.94 2.06-2.06.94zm10 10l.94 2.06.94-2.06 2.06-.94-2.06-.94-.94-2.06-.94 2.06-2.06.94z\"/><path d=\"M17.41 7.96l-1.37-1.37c-.4-.4-.92-.59-1.43-.59-.52 0-1.04.2-1.43.59L10.3 9.45l-7.72 7.72c-.78.78-.78 2.05 0 2.83L4 21.41c.39.39.9.59 1.41.59.51 0 1.02-.2 1.41-.59l7.78-7.78 2.81-2.81c.8-.78.8-2.07 0-2.86zM5.41 20L4 18.59l7.72-7.72 1.47 1.35L5.41 20z\"/>\n",
              "  </svg>\n",
              "      </button>\n",
              "      \n",
              "  <style>\n",
              "    .colab-df-container {\n",
              "      display:flex;\n",
              "      flex-wrap:wrap;\n",
              "      gap: 12px;\n",
              "    }\n",
              "\n",
              "    .colab-df-convert {\n",
              "      background-color: #E8F0FE;\n",
              "      border: none;\n",
              "      border-radius: 50%;\n",
              "      cursor: pointer;\n",
              "      display: none;\n",
              "      fill: #1967D2;\n",
              "      height: 32px;\n",
              "      padding: 0 0 0 0;\n",
              "      width: 32px;\n",
              "    }\n",
              "\n",
              "    .colab-df-convert:hover {\n",
              "      background-color: #E2EBFA;\n",
              "      box-shadow: 0px 1px 2px rgba(60, 64, 67, 0.3), 0px 1px 3px 1px rgba(60, 64, 67, 0.15);\n",
              "      fill: #174EA6;\n",
              "    }\n",
              "\n",
              "    [theme=dark] .colab-df-convert {\n",
              "      background-color: #3B4455;\n",
              "      fill: #D2E3FC;\n",
              "    }\n",
              "\n",
              "    [theme=dark] .colab-df-convert:hover {\n",
              "      background-color: #434B5C;\n",
              "      box-shadow: 0px 1px 3px 1px rgba(0, 0, 0, 0.15);\n",
              "      filter: drop-shadow(0px 1px 2px rgba(0, 0, 0, 0.3));\n",
              "      fill: #FFFFFF;\n",
              "    }\n",
              "  </style>\n",
              "\n",
              "      <script>\n",
              "        const buttonEl =\n",
              "          document.querySelector('#df-9b1b9fe4-3ce8-4042-96eb-bb0a2a0c438c button.colab-df-convert');\n",
              "        buttonEl.style.display =\n",
              "          google.colab.kernel.accessAllowed ? 'block' : 'none';\n",
              "\n",
              "        async function convertToInteractive(key) {\n",
              "          const element = document.querySelector('#df-9b1b9fe4-3ce8-4042-96eb-bb0a2a0c438c');\n",
              "          const dataTable =\n",
              "            await google.colab.kernel.invokeFunction('convertToInteractive',\n",
              "                                                     [key], {});\n",
              "          if (!dataTable) return;\n",
              "\n",
              "          const docLinkHtml = 'Like what you see? Visit the ' +\n",
              "            '<a target=\"_blank\" href=https://colab.research.google.com/notebooks/data_table.ipynb>data table notebook</a>'\n",
              "            + ' to learn more about interactive tables.';\n",
              "          element.innerHTML = '';\n",
              "          dataTable['output_type'] = 'display_data';\n",
              "          await google.colab.output.renderOutput(dataTable, element);\n",
              "          const docLink = document.createElement('div');\n",
              "          docLink.innerHTML = docLinkHtml;\n",
              "          element.appendChild(docLink);\n",
              "        }\n",
              "      </script>\n",
              "    </div>\n",
              "  </div>\n",
              "  "
            ]
          },
          "metadata": {},
          "execution_count": 52
        }
      ]
    },
    {
      "cell_type": "code",
      "source": [
        "from sklearn.base import ClassifierMixin\n",
        "ClassifierMixin"
      ],
      "metadata": {
        "id": "JpLPEX7ezJ8i",
        "colab": {
          "base_uri": "https://localhost:8080/"
        },
        "outputId": "b1a29d73-d31e-4ffb-c6be-0d95e8f146fd"
      },
      "execution_count": null,
      "outputs": [
        {
          "output_type": "execute_result",
          "data": {
            "text/plain": [
              "sklearn.base.ClassifierMixin"
            ]
          },
          "metadata": {},
          "execution_count": 53
        }
      ]
    },
    {
      "cell_type": "code",
      "source": [
        "correlation_df = iris_input.merge(iris_target, how='right', left_index=True, right_index=True)"
      ],
      "metadata": {
        "id": "cRVjxEVGNbKl"
      },
      "execution_count": null,
      "outputs": []
    },
    {
      "cell_type": "code",
      "source": [
        "correlation_df = correlation_df.rename(columns={'0_x': 'Sepal Length (cm)', 1: 'Sepal Width (cm)', 2: 'Petal Length (cm)', 3: 'Petal Width (cm)', '0_y': 'Species Type'})"
      ],
      "metadata": {
        "id": "bnq8jxYzXRcj"
      },
      "execution_count": null,
      "outputs": []
    },
    {
      "cell_type": "code",
      "source": [
        "correlation_df"
      ],
      "metadata": {
        "id": "jOKWyST6WIGv",
        "colab": {
          "base_uri": "https://localhost:8080/",
          "height": 424
        },
        "outputId": "1f4d8a06-aa02-4baa-d574-7186798bec8a"
      },
      "execution_count": null,
      "outputs": [
        {
          "output_type": "execute_result",
          "data": {
            "text/plain": [
              "     Sepal Length (cm)  Sepal Width (cm)  Petal Length (cm)  Petal Width (cm)  \\\n",
              "0                  5.0               3.5                1.3               0.3   \n",
              "1                  4.5               2.3                1.3               0.3   \n",
              "2                  5.1               3.5                1.4               0.3   \n",
              "3                  5.7               3.8                1.7               0.3   \n",
              "4                  5.1               3.8                1.5               0.3   \n",
              "..                 ...               ...                ...               ...   \n",
              "145                6.7               3.0                5.2               2.3   \n",
              "146                6.3               2.5                5.0               1.9   \n",
              "147                6.5               3.0                5.2               2.0   \n",
              "148                6.2               3.4                5.4               2.3   \n",
              "149                5.9               3.0                5.1               1.8   \n",
              "\n",
              "     Species Type  \n",
              "0               1  \n",
              "1               1  \n",
              "2               1  \n",
              "3               1  \n",
              "4               1  \n",
              "..            ...  \n",
              "145             3  \n",
              "146             3  \n",
              "147             3  \n",
              "148             3  \n",
              "149             3  \n",
              "\n",
              "[150 rows x 5 columns]"
            ],
            "text/html": [
              "\n",
              "  <div id=\"df-188a4a44-9b71-472b-9d84-b85a57aca7da\">\n",
              "    <div class=\"colab-df-container\">\n",
              "      <div>\n",
              "<style scoped>\n",
              "    .dataframe tbody tr th:only-of-type {\n",
              "        vertical-align: middle;\n",
              "    }\n",
              "\n",
              "    .dataframe tbody tr th {\n",
              "        vertical-align: top;\n",
              "    }\n",
              "\n",
              "    .dataframe thead th {\n",
              "        text-align: right;\n",
              "    }\n",
              "</style>\n",
              "<table border=\"1\" class=\"dataframe\">\n",
              "  <thead>\n",
              "    <tr style=\"text-align: right;\">\n",
              "      <th></th>\n",
              "      <th>Sepal Length (cm)</th>\n",
              "      <th>Sepal Width (cm)</th>\n",
              "      <th>Petal Length (cm)</th>\n",
              "      <th>Petal Width (cm)</th>\n",
              "      <th>Species Type</th>\n",
              "    </tr>\n",
              "  </thead>\n",
              "  <tbody>\n",
              "    <tr>\n",
              "      <th>0</th>\n",
              "      <td>5.0</td>\n",
              "      <td>3.5</td>\n",
              "      <td>1.3</td>\n",
              "      <td>0.3</td>\n",
              "      <td>1</td>\n",
              "    </tr>\n",
              "    <tr>\n",
              "      <th>1</th>\n",
              "      <td>4.5</td>\n",
              "      <td>2.3</td>\n",
              "      <td>1.3</td>\n",
              "      <td>0.3</td>\n",
              "      <td>1</td>\n",
              "    </tr>\n",
              "    <tr>\n",
              "      <th>2</th>\n",
              "      <td>5.1</td>\n",
              "      <td>3.5</td>\n",
              "      <td>1.4</td>\n",
              "      <td>0.3</td>\n",
              "      <td>1</td>\n",
              "    </tr>\n",
              "    <tr>\n",
              "      <th>3</th>\n",
              "      <td>5.7</td>\n",
              "      <td>3.8</td>\n",
              "      <td>1.7</td>\n",
              "      <td>0.3</td>\n",
              "      <td>1</td>\n",
              "    </tr>\n",
              "    <tr>\n",
              "      <th>4</th>\n",
              "      <td>5.1</td>\n",
              "      <td>3.8</td>\n",
              "      <td>1.5</td>\n",
              "      <td>0.3</td>\n",
              "      <td>1</td>\n",
              "    </tr>\n",
              "    <tr>\n",
              "      <th>...</th>\n",
              "      <td>...</td>\n",
              "      <td>...</td>\n",
              "      <td>...</td>\n",
              "      <td>...</td>\n",
              "      <td>...</td>\n",
              "    </tr>\n",
              "    <tr>\n",
              "      <th>145</th>\n",
              "      <td>6.7</td>\n",
              "      <td>3.0</td>\n",
              "      <td>5.2</td>\n",
              "      <td>2.3</td>\n",
              "      <td>3</td>\n",
              "    </tr>\n",
              "    <tr>\n",
              "      <th>146</th>\n",
              "      <td>6.3</td>\n",
              "      <td>2.5</td>\n",
              "      <td>5.0</td>\n",
              "      <td>1.9</td>\n",
              "      <td>3</td>\n",
              "    </tr>\n",
              "    <tr>\n",
              "      <th>147</th>\n",
              "      <td>6.5</td>\n",
              "      <td>3.0</td>\n",
              "      <td>5.2</td>\n",
              "      <td>2.0</td>\n",
              "      <td>3</td>\n",
              "    </tr>\n",
              "    <tr>\n",
              "      <th>148</th>\n",
              "      <td>6.2</td>\n",
              "      <td>3.4</td>\n",
              "      <td>5.4</td>\n",
              "      <td>2.3</td>\n",
              "      <td>3</td>\n",
              "    </tr>\n",
              "    <tr>\n",
              "      <th>149</th>\n",
              "      <td>5.9</td>\n",
              "      <td>3.0</td>\n",
              "      <td>5.1</td>\n",
              "      <td>1.8</td>\n",
              "      <td>3</td>\n",
              "    </tr>\n",
              "  </tbody>\n",
              "</table>\n",
              "<p>150 rows × 5 columns</p>\n",
              "</div>\n",
              "      <button class=\"colab-df-convert\" onclick=\"convertToInteractive('df-188a4a44-9b71-472b-9d84-b85a57aca7da')\"\n",
              "              title=\"Convert this dataframe to an interactive table.\"\n",
              "              style=\"display:none;\">\n",
              "        \n",
              "  <svg xmlns=\"http://www.w3.org/2000/svg\" height=\"24px\"viewBox=\"0 0 24 24\"\n",
              "       width=\"24px\">\n",
              "    <path d=\"M0 0h24v24H0V0z\" fill=\"none\"/>\n",
              "    <path d=\"M18.56 5.44l.94 2.06.94-2.06 2.06-.94-2.06-.94-.94-2.06-.94 2.06-2.06.94zm-11 1L8.5 8.5l.94-2.06 2.06-.94-2.06-.94L8.5 2.5l-.94 2.06-2.06.94zm10 10l.94 2.06.94-2.06 2.06-.94-2.06-.94-.94-2.06-.94 2.06-2.06.94z\"/><path d=\"M17.41 7.96l-1.37-1.37c-.4-.4-.92-.59-1.43-.59-.52 0-1.04.2-1.43.59L10.3 9.45l-7.72 7.72c-.78.78-.78 2.05 0 2.83L4 21.41c.39.39.9.59 1.41.59.51 0 1.02-.2 1.41-.59l7.78-7.78 2.81-2.81c.8-.78.8-2.07 0-2.86zM5.41 20L4 18.59l7.72-7.72 1.47 1.35L5.41 20z\"/>\n",
              "  </svg>\n",
              "      </button>\n",
              "      \n",
              "  <style>\n",
              "    .colab-df-container {\n",
              "      display:flex;\n",
              "      flex-wrap:wrap;\n",
              "      gap: 12px;\n",
              "    }\n",
              "\n",
              "    .colab-df-convert {\n",
              "      background-color: #E8F0FE;\n",
              "      border: none;\n",
              "      border-radius: 50%;\n",
              "      cursor: pointer;\n",
              "      display: none;\n",
              "      fill: #1967D2;\n",
              "      height: 32px;\n",
              "      padding: 0 0 0 0;\n",
              "      width: 32px;\n",
              "    }\n",
              "\n",
              "    .colab-df-convert:hover {\n",
              "      background-color: #E2EBFA;\n",
              "      box-shadow: 0px 1px 2px rgba(60, 64, 67, 0.3), 0px 1px 3px 1px rgba(60, 64, 67, 0.15);\n",
              "      fill: #174EA6;\n",
              "    }\n",
              "\n",
              "    [theme=dark] .colab-df-convert {\n",
              "      background-color: #3B4455;\n",
              "      fill: #D2E3FC;\n",
              "    }\n",
              "\n",
              "    [theme=dark] .colab-df-convert:hover {\n",
              "      background-color: #434B5C;\n",
              "      box-shadow: 0px 1px 3px 1px rgba(0, 0, 0, 0.15);\n",
              "      filter: drop-shadow(0px 1px 2px rgba(0, 0, 0, 0.3));\n",
              "      fill: #FFFFFF;\n",
              "    }\n",
              "  </style>\n",
              "\n",
              "      <script>\n",
              "        const buttonEl =\n",
              "          document.querySelector('#df-188a4a44-9b71-472b-9d84-b85a57aca7da button.colab-df-convert');\n",
              "        buttonEl.style.display =\n",
              "          google.colab.kernel.accessAllowed ? 'block' : 'none';\n",
              "\n",
              "        async function convertToInteractive(key) {\n",
              "          const element = document.querySelector('#df-188a4a44-9b71-472b-9d84-b85a57aca7da');\n",
              "          const dataTable =\n",
              "            await google.colab.kernel.invokeFunction('convertToInteractive',\n",
              "                                                     [key], {});\n",
              "          if (!dataTable) return;\n",
              "\n",
              "          const docLinkHtml = 'Like what you see? Visit the ' +\n",
              "            '<a target=\"_blank\" href=https://colab.research.google.com/notebooks/data_table.ipynb>data table notebook</a>'\n",
              "            + ' to learn more about interactive tables.';\n",
              "          element.innerHTML = '';\n",
              "          dataTable['output_type'] = 'display_data';\n",
              "          await google.colab.output.renderOutput(dataTable, element);\n",
              "          const docLink = document.createElement('div');\n",
              "          docLink.innerHTML = docLinkHtml;\n",
              "          element.appendChild(docLink);\n",
              "        }\n",
              "      </script>\n",
              "    </div>\n",
              "  </div>\n",
              "  "
            ]
          },
          "metadata": {},
          "execution_count": 56
        }
      ]
    },
    {
      "cell_type": "code",
      "source": [
        "correlation = correlation_df.corr()"
      ],
      "metadata": {
        "id": "lYET6LEwV-3q"
      },
      "execution_count": null,
      "outputs": []
    },
    {
      "cell_type": "code",
      "source": [
        "import seaborn as sn"
      ],
      "metadata": {
        "id": "FN9ZvsjLNmbn"
      },
      "execution_count": null,
      "outputs": []
    },
    {
      "cell_type": "code",
      "source": [
        "plot = sn.heatmap(correlation, annot = True, fmt=\".1f\", linewidths=.6)\n",
        "plot"
      ],
      "metadata": {
        "id": "oW0yf7ZXNokT",
        "colab": {
          "base_uri": "https://localhost:8080/",
          "height": 566
        },
        "outputId": "f98dac75-1c5c-4314-a18e-cbb7fe17d691"
      },
      "execution_count": null,
      "outputs": [
        {
          "output_type": "execute_result",
          "data": {
            "text/plain": [
              "<Axes: >"
            ]
          },
          "metadata": {},
          "execution_count": 59
        },
        {
          "output_type": "display_data",
          "data": {
            "text/plain": [
              "<Figure size 640x480 with 2 Axes>"
            ],
            "image/png": "[encoded data removed]"
          },
          "metadata": {}
        }
      ]
    },
    {
      "cell_type": "code",
      "source": [
        "import matplotlib.pyplot as plt\n",
        "from matplotlib.colors import ListedColormap\n"
      ],
      "metadata": {
        "id": "Yu3ouICda417"
      },
      "execution_count": null,
      "outputs": []
    },
    {
      "cell_type": "code",
      "source": [
        "qualitative_colors = sn.color_palette(\"tab10\", n_colors=3)"
      ],
      "metadata": {
        "id": "GAzzzdvwcHV4"
      },
      "execution_count": null,
      "outputs": []
    },
    {
      "cell_type": "code",
      "source": [
        "sn.scatterplot(x='Petal Length (cm)', y='Petal Width (cm)',\n",
        "                hue='Species Type', data=correlation_df,palette=qualitative_colors )\n",
        " \n",
        "# Placing Legend outside the Figure\n",
        "plt.legend(bbox_to_anchor=(1, 1), loc=2)\n",
        "plt.title(\"Petal Length (cm) vs Petal Width (cm)\")\n",
        "plt.show()"
      ],
      "metadata": {
        "id": "Nxlzdy-3O3h8",
        "colab": {
          "base_uri": "https://localhost:8080/",
          "height": 472
        },
        "outputId": "d1a56970-550e-4b38-e534-811573e87841"
      },
      "execution_count": null,
      "outputs": [
        {
          "output_type": "display_data",
          "data": {
            "text/plain": [
              "<Figure size 640x480 with 1 Axes>"
            ],
            "image/png": "[encoded data removed]"
          },
          "metadata": {}
        }
      ]
    }
  ]
}